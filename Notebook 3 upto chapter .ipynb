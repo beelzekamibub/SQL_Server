{
    "metadata": {
        "kernelspec": {
            "name": "SQL",
            "display_name": "SQL",
            "language": "sql"
        },
        "language_info": {
            "name": "sql",
            "version": ""
        }
    },
    "nbformat_minor": 2,
    "nbformat": 4,
    "cells": [
        {
            "cell_type": "markdown",
            "source": [
                "## Grouping and Aggregating"
            ],
            "metadata": {
                "azdata_cell_guid": "6d3a3ee5-cbcb-4b5d-85f9-7dad85a6f677"
            },
            "attachments": {}
        },
        {
            "cell_type": "markdown",
            "source": [
                "### Aggregate Functions - these operators work on a set of values from mulyiple rows at once\n",
                "\n",
                "- COUNT - counts the number of non-NULL values in a column,works on BIT column, no other does.\n",
                "- SUM \n",
                "- AVG \n",
                "- MIN - can be used on character data as well as date and numeric\n",
                "- MAX\n",
                "\n",
                "AGGREGATE functions dont work on TEST,NTEST and IMAGE columns  \n",
                "<span style=\"color: var(--vscode-foreground);\">except for COUNT others dont work on special data types like hierarchyID</span>\n",
                "\n",
                "COUNT can be used with \\* to give the count of all the rows  \n",
                "  \n",
                "all the aggregate functions ignore null except for count when using with \\*\n",
                "\n",
                "  \n",
                "\n",
                "SYNTAX\n",
                "\n",
                "> SELECT \\<AGG FUNC\\>(\\<COL1\\>)  \n",
                "> FROM \\<TABLE\\>"
            ],
            "metadata": {
                "azdata_cell_guid": "efb0dbc9-4d03-406a-a543-d4120867ef28"
            },
            "attachments": {}
        },
        {
            "cell_type": "code",
            "source": [
                "SELECT COUNT(*) AS COUNTOFROWS,\r\n",
                "    MAX(H.TotalDue) AS MaxTotal,\r\n",
                "    MIN(H.TotalDue) AS MINTOTAL,\r\n",
                "    SUM(H.TotalDue) AS SUMOFTOTAL,\r\n",
                "    AVG(H.TotalDue) AS AVGTOTAL \r\n",
                "FROM Sales.SalesOrderHeader AS H;"
            ],
            "metadata": {
                "azdata_cell_guid": "84ecb796-a649-4988-8e33-c63fb7c7688e",
                "language": "sql"
            },
            "outputs": [],
            "execution_count": null
        },
        {
            "cell_type": "code",
            "source": [
                "SELECT MIN(Name) AS MinName,\r\n",
                " MAX(Name) AS MaxName,\r\n",
                " MIN(SellStartDate) AS MinSellStartDate\r\n",
                "FROM Production.Product;"
            ],
            "metadata": {
                "azdata_cell_guid": "2a24d8fa-5059-4ecf-b2c0-09a2f2119fa2",
                "language": "sql"
            },
            "outputs": [],
            "execution_count": null
        },
        {
            "cell_type": "code",
            "source": [
                "SELECT COUNT(*) AS CountOfRows,\r\n",
                " COUNT(Color) AS CountOfColor,\r\n",
                " COUNT(DISTINCT Color) AS CountOfDistinctColor\r\n",
                "FROM Production.Product;"
            ],
            "metadata": {
                "azdata_cell_guid": "ba007f25-f12a-419b-be9c-1ff0b618c16f",
                "language": "sql"
            },
            "outputs": [],
            "execution_count": null
        },
        {
            "cell_type": "markdown",
            "source": [
                "We can also have simple columns along wth aggregate functions as part of the same column."
            ],
            "metadata": {
                "azdata_cell_guid": "1a0e62a1-a0a6-4b15-9034-a301cf036a49"
            },
            "attachments": {}
        },
        {
            "cell_type": "markdown",
            "source": [
                "### Exercise 7.1\n",
                "\n",
                "Use the AdventureWorks2019 database to complete Questions 1 to 5. Switch to the WideWorldImporters database to complete this exercise."
            ],
            "metadata": {
                "azdata_cell_guid": "affb2174-73c2-4879-92e4-d832f6159608"
            },
            "attachments": {}
        },
        {
            "cell_type": "markdown",
            "source": [
                "1\\. Write a query to determine the number of customers in the Sales.Customer table."
            ],
            "metadata": {
                "azdata_cell_guid": "aa0531f6-3f78-4e62-9410-b2976d1b4820"
            },
            "attachments": {}
        },
        {
            "cell_type": "code",
            "source": [
                "SELECT COUNT(DISTINCT C.CustomerID)\r\n",
                "FROM Sales.Customer AS C;"
            ],
            "metadata": {
                "azdata_cell_guid": "01cc050e-9069-4778-8dc0-7e90cb85123e",
                "language": "sql"
            },
            "outputs": [],
            "execution_count": null
        },
        {
            "cell_type": "markdown",
            "source": [
                "2\\. Write a query that retrieves the total number of products ordered. Use the OrderQty column of the Sales.SalesOrderDetail table and the SUM function."
            ],
            "metadata": {
                "azdata_cell_guid": "00d7b2cb-b762-48e6-95cc-5255dfd322fd"
            },
            "attachments": {}
        },
        {
            "cell_type": "code",
            "source": [
                "SELECT SUM(OrderQty)\r\n",
                "FROM Sales.SalesOrderDetail"
            ],
            "metadata": {
                "azdata_cell_guid": "766b130b-8ee9-4e67-bc83-5c11c51829fd",
                "language": "sql"
            },
            "outputs": [],
            "execution_count": null
        },
        {
            "cell_type": "markdown",
            "source": [
                "3\\. Write a query to determine the price of the most expensive product ordered. Use the UnitPrice column of the Sales.SalesOrderDetail table."
            ],
            "metadata": {
                "azdata_cell_guid": "aef9c369-7fb4-4608-a3a1-4a2bc54ea9e6"
            },
            "attachments": {}
        },
        {
            "cell_type": "code",
            "source": [
                "SELECT MAX(D.UnitPrice)\r\n",
                "FROM Sales.SalesOrderDetail AS D;"
            ],
            "metadata": {
                "azdata_cell_guid": "9e724b80-40fd-4655-8fd3-f1072ed8cab2",
                "language": "sql"
            },
            "outputs": [],
            "execution_count": null
        },
        {
            "cell_type": "markdown",
            "source": [
                "4\\. Write a query to determine the average freight amount in the Sales. SalesOrderHeader table."
            ],
            "metadata": {
                "azdata_cell_guid": "e9eb651a-a911-4d5e-9665-a4b8cb6d8329"
            },
            "attachments": {}
        },
        {
            "cell_type": "code",
            "source": [
                "SELECT AVG(H.Freight)\r\n",
                "FROM Sales.SalesOrderHeader AS H;"
            ],
            "metadata": {
                "azdata_cell_guid": "722c428e-a4a3-4b0f-9240-24668cfc8385",
                "language": "sql"
            },
            "outputs": [],
            "execution_count": null
        },
        {
            "cell_type": "markdown",
            "source": [
                "5\\. Write a query using the Production.Product table that displays the minimum, maximum, and average ListPrice."
            ],
            "metadata": {
                "azdata_cell_guid": "5c896c27-ade3-439c-bb29-a2b24f1594c8"
            },
            "attachments": {}
        },
        {
            "cell_type": "code",
            "source": [
                "SELECT MIN(ListPrice),MAX(ListPrice),AVG(ListPrice) \r\n",
                "FROM Production.Product;"
            ],
            "metadata": {
                "azdata_cell_guid": "9b190e01-e013-4981-a82d-96740163cfe0",
                "language": "sql"
            },
            "outputs": [],
            "execution_count": null
        },
        {
            "cell_type": "markdown",
            "source": [
                "### GROUP BY\n",
                "\n",
                "use when we want aggreagation on the basis of some common value, use with categorical data"
            ],
            "metadata": {
                "azdata_cell_guid": "9c3591ae-3b31-4cfe-9743-5b0d66a467e6"
            },
            "attachments": {}
        },
        {
            "cell_type": "markdown",
            "source": [
                "### Grouping on columns\n",
                "\n",
                "- for when we wanto calculate the sum of all the orders grouped by the date or grouped by the customer\n",
                "- An additional column may be included in the select list, the column being the one we group the data on\n",
                "- once you have included normal non aggregate columns in the select list we must group by on them, or you will get an error\n",
                "\n",
                "SYNTAX\n",
                "\n",
                "> SELECT \\<AGG FUNC\\>(\\<COL1\\>), \\<COL2\\>  \n",
                "> <span style=\"color: var(--vscode-foreground);\">FROM &lt;TABLE&gt;&nbsp;<br></span> <span style=\"color: var(--vscode-foreground);\">GROUP BY &lt;COL2&gt;</span>"
            ],
            "metadata": {
                "azdata_cell_guid": "80fcc954-6aa8-4bad-9f5c-135d5e3b2f9b"
            },
            "attachments": {}
        },
        {
            "cell_type": "code",
            "source": [
                "SELECT CustomerID,SUM(TotalDue) AS TotalPerCustomer\r\n",
                "FROM Sales.SalesOrderHeader as H \r\n",
                "GROUP BY CustomerID;"
            ],
            "metadata": {
                "azdata_cell_guid": "bd8be422-dd17-42c8-9e00-66fa6e05d2f3",
                "language": "sql"
            },
            "outputs": [],
            "execution_count": null
        },
        {
            "cell_type": "code",
            "source": [
                "SELECT TerritoryID,AVG(TotalDue) AS AveragePerTerritory\r\n",
                "FROM Sales.SalesOrderHeader\r\n",
                "GROUP BY TerritoryID;"
            ],
            "metadata": {
                "azdata_cell_guid": "eebb7481-8484-423e-86ae-356ef689482f",
                "language": "sql"
            },
            "outputs": [],
            "execution_count": null
        },
        {
            "cell_type": "markdown",
            "source": [
                "### GROUP ON EXPRESSIONS\n",
                "\n",
                "- we can group on soem expression applied on some column as well"
            ],
            "metadata": {
                "azdata_cell_guid": "c5073679-6590-4fdd-b7ca-904f9ebf9fb6"
            },
            "attachments": {}
        },
        {
            "cell_type": "code",
            "source": [
                "SELECT COUNT(*) AS CountOfOrders, YEAR(OrderDate) AS OrderYear\r\n",
                "FROM Sales.SalesOrderHeader\r\n",
                "GROUP BY YEAR(OrderDate);"
            ],
            "metadata": {
                "azdata_cell_guid": "0cf6a553-f694-4d1d-96f5-cd09ed63d93b",
                "language": "sql"
            },
            "outputs": [
                {
                    "output_type": "display_data",
                    "data": {
                        "text/html": "(4 rows affected)"
                    },
                    "metadata": {}
                },
                {
                    "output_type": "display_data",
                    "data": {
                        "text/html": "Total execution time: 00:00:00.048"
                    },
                    "metadata": {}
                },
                {
                    "output_type": "execute_result",
                    "metadata": {},
                    "execution_count": 2,
                    "data": {
                        "application/vnd.dataresource+json": {
                            "schema": {
                                "fields": [
                                    {
                                        "name": "CountOfOrders"
                                    },
                                    {
                                        "name": "OrderYear"
                                    }
                                ]
                            },
                            "data": [
                                {
                                    "CountOfOrders": "14182",
                                    "OrderYear": "2013"
                                },
                                {
                                    "CountOfOrders": "11761",
                                    "OrderYear": "2014"
                                },
                                {
                                    "CountOfOrders": "1607",
                                    "OrderYear": "2011"
                                },
                                {
                                    "CountOfOrders": "3915",
                                    "OrderYear": "2012"
                                }
                            ]
                        },
                        "text/html": [
                            "<table>",
                            "<tr><th>CountOfOrders</th><th>OrderYear</th></tr>",
                            "<tr><td>14182</td><td>2013</td></tr>",
                            "<tr><td>11761</td><td>2014</td></tr>",
                            "<tr><td>1607</td><td>2011</td></tr>",
                            "<tr><td>3915</td><td>2012</td></tr>",
                            "</table>"
                        ]
                    }
                }
            ],
            "execution_count": 2
        },
        {
            "cell_type": "markdown",
            "source": [
                "- you must group by on the same expressio in the selelct list else the result will ont be what you expected"
            ],
            "metadata": {
                "azdata_cell_guid": "d4fd44eb-dc0d-429c-9267-52fcfce4f487"
            },
            "attachments": {}
        },
        {
            "cell_type": "markdown",
            "source": [
                "EXERCISE 7.2\n",
                "\n",
                "Use the AdventureWorks2019 database to complete Questions 1 to 4. Switch to the WideWorldImporters database to complete the exercise."
            ],
            "metadata": {
                "azdata_cell_guid": "39b93aad-cd49-45f6-a541-603d51f3a758"
            },
            "attachments": {}
        },
        {
            "cell_type": "markdown",
            "source": [
                "1\\. Write a query that shows the total number of items ordered for each product. Use the Sales.SalesOrderDetail table to write the query."
            ],
            "metadata": {
                "azdata_cell_guid": "18389366-26b3-4fab-97fb-4574cd44d9bc"
            },
            "attachments": {}
        },
        {
            "cell_type": "code",
            "source": [
                "SELECT SUM(D.OrderQty),COUNT(D.OrderQty),p.Name\r\n",
                "FROM Sales.SalesOrderDetail AS D\r\n",
                "INNER JOIN Production.Product AS P ON P.ProductID=D.ProductID\r\n",
                "GROUP BY P.Name"
            ],
            "metadata": {
                "azdata_cell_guid": "d124d482-967d-4b02-9be6-558e08ffa914",
                "language": "sql"
            },
            "outputs": [],
            "execution_count": null
        },
        {
            "cell_type": "markdown",
            "source": [
                "2\\. Write a query using the Sales.SalesOrderDetail table that displays a count of the detail lines for each SalesOrderID"
            ],
            "metadata": {
                "azdata_cell_guid": "e795345c-e9b5-4dff-af9f-307a80188dd0"
            },
            "attachments": {}
        },
        {
            "cell_type": "code",
            "source": [
                "SELECT D.SalesOrderID, COUNT(D.SalesOrderID),COUNT(*)\r\n",
                "FROM Sales.SalesOrderDetail AS D \r\n",
                "GROUP BY D.SalesOrderID"
            ],
            "metadata": {
                "azdata_cell_guid": "9773cae5-7061-4f3a-b264-eb543714c165",
                "language": "sql"
            },
            "outputs": [],
            "execution_count": null
        },
        {
            "cell_type": "markdown",
            "source": [
                "3\\. Write a query using the Production.Product table that lists a count of the products in each product line."
            ],
            "metadata": {
                "azdata_cell_guid": "5a5e815c-0a67-4765-b8f4-4beae5ed2a22"
            },
            "attachments": {}
        },
        {
            "cell_type": "code",
            "source": [
                "SELECT COUNT(P.ProductID),P.ProductLine\r\n",
                "FROM Production.Product AS P \r\n",
                "GROUP BY P.ProductLine"
            ],
            "metadata": {
                "azdata_cell_guid": "c05f6c33-e9e8-42ad-8c2f-da3dc6cb0fe6",
                "language": "sql"
            },
            "outputs": [],
            "execution_count": null
        },
        {
            "cell_type": "markdown",
            "source": [
                "4\\. Write a query that displays the count of orders placed by year for each customer using the Sales.SalesOrderHeader table."
            ],
            "metadata": {
                "azdata_cell_guid": "11e51295-2e5f-4ae1-a4b9-b5354d7f4d82"
            },
            "attachments": {}
        },
        {
            "cell_type": "code",
            "source": [
                "SELECT YEAR(H.OrderDate),COUNT(*),CustomerID\r\n",
                "FROM Sales.SalesOrderHeader AS H \r\n",
                "GROUP BY YEAR(H.OrderDate), CustomerID\r\n",
                "ORDER BY CustomerID;\r\n",
                "SELECT YEAR(H.OrderDate),COUNT(*),CustomerID\r\n",
                "FROM Sales.SalesOrderHeader AS H \r\n",
                "GROUP BY CustomerID, YEAR(H.OrderDate)\r\n",
                "ORDER BY CustomerID;"
            ],
            "metadata": {
                "azdata_cell_guid": "75d6451f-6f3d-47f8-96dc-c4e328a5d101",
                "language": "sql"
            },
            "outputs": [],
            "execution_count": null
        },
        {
            "cell_type": "markdown",
            "source": [
                "5\\. Switch to WideWorldImporters. Write a SELECT statement that displays a count of CountryNames for each Continent. Use the Application.Countries table. Alias the COUNT as CountCountries."
            ],
            "metadata": {
                "azdata_cell_guid": "ac4ce141-4910-477b-b46c-a204831396f8"
            },
            "attachments": {}
        },
        {
            "cell_type": "code",
            "source": [
                "SELECT C.Continent, COUNT(C.CountryID)\r\n",
                "FROM Application.Countries AS C \r\n",
                "GROUP BY C.Continent"
            ],
            "metadata": {
                "azdata_cell_guid": "8222829e-5f4b-4e8b-aeab-f48755053770",
                "language": "sql"
            },
            "outputs": [
                {
                    "output_type": "display_data",
                    "data": {
                        "text/html": "(7 rows affected)"
                    },
                    "metadata": {}
                },
                {
                    "output_type": "display_data",
                    "data": {
                        "text/html": "Total execution time: 00:00:00.056"
                    },
                    "metadata": {}
                },
                {
                    "output_type": "execute_result",
                    "metadata": {},
                    "execution_count": 1,
                    "data": {
                        "application/vnd.dataresource+json": {
                            "schema": {
                                "fields": [
                                    {
                                        "name": "Continent"
                                    },
                                    {
                                        "name": "(No column name)"
                                    }
                                ]
                            },
                            "data": [
                                {
                                    "Continent": "Africa",
                                    "(No column name)": "50"
                                },
                                {
                                    "Continent": "Asia",
                                    "(No column name)": "46"
                                },
                                {
                                    "Continent": "Europe",
                                    "(No column name)": "43"
                                },
                                {
                                    "Continent": "North America",
                                    "(No column name)": "23"
                                },
                                {
                                    "Continent": "Oceania",
                                    "(No column name)": "13"
                                },
                                {
                                    "Continent": "Seven seas (open ocean)",
                                    "(No column name)": "3"
                                },
                                {
                                    "Continent": "South America",
                                    "(No column name)": "12"
                                }
                            ]
                        },
                        "text/html": [
                            "<table>",
                            "<tr><th>Continent</th><th>(No column name)</th></tr>",
                            "<tr><td>Africa</td><td>50</td></tr>",
                            "<tr><td>Asia</td><td>46</td></tr>",
                            "<tr><td>Europe</td><td>43</td></tr>",
                            "<tr><td>North America</td><td>23</td></tr>",
                            "<tr><td>Oceania</td><td>13</td></tr>",
                            "<tr><td>Seven seas (open ocean)</td><td>3</td></tr>",
                            "<tr><td>South America</td><td>12</td></tr>",
                            "</table>"
                        ]
                    }
                }
            ],
            "execution_count": 1
        },
        {
            "cell_type": "markdown",
            "source": [
                "### ORDER BY\n",
                "\n",
                "- special considerations for order by when using with group by\n",
                "- if a non aggregated function is used to order by it must be grouped on\n",
                "- the following code will throw error\n",
                "- the thing we are ordering on can be a aggregate function, then it doesnt have to be in the group by"
            ],
            "metadata": {
                "azdata_cell_guid": "13ea1b34-d47d-4f6e-a792-f2e50f7adf0d"
            },
            "attachments": {}
        },
        {
            "cell_type": "code",
            "source": [
                "SELECT H.CustomerId, SUM(H.TotalDue) \r\n",
                "FROM Sales.SalesOrderHeader as H \r\n",
                "GROUP BY CustomerID\r\n",
                "ORDER BY TerritoryID;"
            ],
            "metadata": {
                "azdata_cell_guid": "42f1a5dd-85ce-43da-ab3c-b59130f91633",
                "language": "sql"
            },
            "outputs": [
                {
                    "output_type": "error",
                    "evalue": "Msg 8127, Level 16, State 1, Line 4\r\nColumn \"Sales.SalesOrderHeader.TerritoryID\" is invalid in the ORDER BY clause because it is not contained in either an aggregate function or the GROUP BY clause.",
                    "ename": "",
                    "traceback": []
                },
                {
                    "output_type": "display_data",
                    "data": {
                        "text/html": "Total execution time: 00:00:00.001"
                    },
                    "metadata": {}
                }
            ],
            "execution_count": 5
        },
        {
            "cell_type": "markdown",
            "source": [
                "- the espression we group on doesnt need to be in the sekect list"
            ],
            "metadata": {
                "azdata_cell_guid": "cf421d87-9513-4a3d-9557-d350c4b76bb2"
            },
            "attachments": {}
        },
        {
            "cell_type": "code",
            "source": [
                "SELECT H.CustomerID, SUM(TotalDue)\r\n",
                "FROM Sales.SalesOrderHeader AS H\r\n",
                "GROUP BY H.CustomerID\r\n",
                "ORDER BY MAX(H.TotalDue) DESC;"
            ],
            "metadata": {
                "azdata_cell_guid": "9fc49773-0954-4d1a-a015-1a4dff66eca9",
                "language": "sql"
            },
            "outputs": [],
            "execution_count": null
        },
        {
            "cell_type": "markdown",
            "source": [
                "### WHERE CLAUSE\n",
                "\n",
                "- the where clause may not contain any aggregate expression\n",
                "- where clause is used to eliminate rows before the groupings and aggregations\n",
                "- to filter after the groupings and aggrigations use the having caluse\n",
                "- not necessary to ave the column we applied here on to be in the select list"
            ],
            "metadata": {
                "azdata_cell_guid": "8adf2c47-177f-43f0-afc1-82be1cd9746f"
            },
            "attachments": {}
        },
        {
            "cell_type": "code",
            "source": [
                "SELECT H.CustomerID, SUM(H.TotalDue)\r\n",
                "FROM Sales.SalesOrderHeader AS H \r\n",
                "WHERE H.TerritoryID IN (5,6)\r\n",
                "GROUP BY H.CustomerID;\r\n",
                "\r\n",
                "SELECT H.CustomerID, SUM(H.TotalDue), H.TerritoryID\r\n",
                "FROM Sales.SalesOrderHeader AS H  \r\n",
                "WHERE H.TerritoryID IN (5,6)\r\n",
                "GROUP BY H.CustomerID, H.TerritoryID;"
            ],
            "metadata": {
                "azdata_cell_guid": "8aa054ba-01fe-45c8-82d6-374adb1821e9",
                "language": "sql"
            },
            "outputs": [],
            "execution_count": null
        },
        {
            "cell_type": "markdown",
            "source": [
                "### HAVING CLAUSE\n",
                "\n",
                "- to eliminate rows based on aggreagate function after the grouping\n",
                "- may contains aggregate experssions that may or may not be included in the select list\n",
                "- we can have non aggregate columns in the having clause as long as we also group on it, allowing us to filter some of hte groups \n",
                "- under the hood the data base engine may move the having clauses to the where clause conditions because thatst way more efficient\n",
                "- try to have criterions with non aggregate columns in the where clause"
            ],
            "metadata": {
                "azdata_cell_guid": "90bc588a-ebf3-4ff9-ba5e-66677b766229"
            },
            "attachments": {}
        },
        {
            "cell_type": "code",
            "source": [
                "SELECT SUM(H.TotalDue)\r\n",
                "FROM Sales.SalesOrderHeader AS H \r\n",
                "GROUP BY H.CustomerID\r\n",
                "HAVING COUNT(H.CustomerID) >= 10;--TOTAL DUE FOR CUSTOMERS THAT HAVE ORDERED MORE THAN 10 TIMES\r\n",
                "--THIS WAS AN EXAMPLE OF TOTAL DUE FOR EACH CUSTORE IF THEY HAVE ORDERED MORE THAN 10 TIMES\r\n",
                "-- WE CAN ALSO DO SOMETHING LIKE TOTAL DUE FOR EACH CUSTOMER IF THEIR TOTAL DUE EXCEEDS 10000 LIKE SO\r\n",
                "SELECT SUM(H.TotalDue)\r\n",
                "FROM Sales.SalesOrderHeader AS H \r\n",
                "GROUP BY H.CustomerID\r\n",
                "HAVING SUM(H.TotalDue) >= 10000;--TOTAL DUE FOR CUSTOMERS THAT OWE MORE HTAN 10000\r\n",
                "\r\n",
                "SELECT CustomerID,SUM(TotalDue) AS TotalPerCustomer\r\n",
                "FROM Sales.SalesOrderHeader\r\n",
                "GROUP BY CustomerID\r\n",
                "HAVING CustomerID > 27858;\r\n",
                "-- we can also do something like this, using non aggregate columns in the having clause, it is not recommended\r\n",
                "-- keep criterions like this in the where clause"
            ],
            "metadata": {
                "azdata_cell_guid": "9ec81b75-1048-417f-93ac-52d654f434ba",
                "language": "sql"
            },
            "outputs": [],
            "execution_count": null
        },
        {
            "cell_type": "markdown",
            "source": [
                "### order of operations\n",
                "\n",
                "- FROM\n",
                "- WHERE\n",
                "- GROUP BY\n",
                "- HAVING\n",
                "- SELECT\n",
                "- ORDER BY"
            ],
            "metadata": {
                "azdata_cell_guid": "bb688b6f-4d36-452e-89d1-4237f73b5f00"
            },
            "attachments": {}
        },
        {
            "cell_type": "markdown",
            "source": [
                "### EXERCISE 7.3\n",
                "\n",
                "### Use the AdventureWorks2019 database to complete Questions 1 to 4. Switch to the WideWorldAdventures database to complete this exercise."
            ],
            "metadata": {
                "azdata_cell_guid": "7cc8eacd-ef19-4167-8228-5415e12f77c6"
            },
            "attachments": {}
        },
        {
            "cell_type": "markdown",
            "source": [
                "1\\. Write a query that returns a count of detail lines in the Sales. SalesOrderDetail table by SalesOrderID. Include only those sales that have more than three detail lines."
            ],
            "metadata": {
                "azdata_cell_guid": "88b87350-75de-4095-b6dc-4b80c71ac6b9"
            },
            "attachments": {}
        },
        {
            "cell_type": "code",
            "source": [
                "SELECT COUNT(*), H.SalesOrderID\r\n",
                "FROM Sales.SalesOrderDetail AS H \r\n",
                "GROUP BY H.SalesOrderID\r\n",
                "HAVING COUNT(*)>3;"
            ],
            "metadata": {
                "azdata_cell_guid": "e1a0fa04-29a7-421e-b56a-ec919bb79581",
                "language": "sql"
            },
            "outputs": [],
            "execution_count": null
        },
        {
            "cell_type": "markdown",
            "source": [
                "2\\. Write a query that creates a sum of the LineTotal in the Sales. SalesOrderDetail table grouped by the SalesOrderID. Include only those rows where the sum exceeds 1000"
            ],
            "metadata": {
                "azdata_cell_guid": "4a47e07d-4f7a-44ab-8c92-9a921ce9712e"
            },
            "attachments": {}
        },
        {
            "cell_type": "code",
            "source": [
                "SELECT SUM(LineTotal), H.SalesOrderID\r\n",
                "FROM Sales.SalesOrderDetail AS H \r\n",
                "GROUP BY H.SalesOrderID\r\n",
                "HAVING SUM(H.LineTotal)>1000;"
            ],
            "metadata": {
                "azdata_cell_guid": "197c3cbf-1d61-4062-8f89-1cb8e3442b59",
                "language": "sql"
            },
            "outputs": [],
            "execution_count": null
        },
        {
            "cell_type": "markdown",
            "source": [
                "3\\. Write a query that groups the products by ProductModelID along with a count. Display the rows that have a count that equals 1"
            ],
            "metadata": {
                "azdata_cell_guid": "045a1fcc-c6b1-45d7-a251-b8ef42212991"
            },
            "attachments": {}
        },
        {
            "cell_type": "code",
            "source": [
                "SELECT P.ProductModelID, COUNT(*)\r\n",
                "FROM Production.Product AS P \r\n",
                "GROUP BY P.ProductModelID \r\n",
                "HAVING COUNT(*) = 1; "
            ],
            "metadata": {
                "azdata_cell_guid": "c3866420-057f-4887-9341-f720b23c7ecc",
                "language": "sql"
            },
            "outputs": [],
            "execution_count": null
        },
        {
            "cell_type": "markdown",
            "source": [
                "4\\. Change the query in Question 3 so that only the products with the color blue or red are included"
            ],
            "metadata": {
                "azdata_cell_guid": "923a0e00-23ec-42ce-ad0e-04a0e6e3a7b7"
            },
            "attachments": {}
        },
        {
            "cell_type": "code",
            "source": [
                "SELECT P.ProductModelID, COUNT(*), P.Color\r\n",
                "FROM Production.Product AS P \r\n",
                "WHERE P.Color IN ('Blue','Red')\r\n",
                "GROUP BY P.ProductModelID, P.Color\r\n",
                "HAVING COUNT(*) = 1; "
            ],
            "metadata": {
                "azdata_cell_guid": "341ed1b3-e8d6-4373-9192-bda137fc36e8",
                "language": "sql"
            },
            "outputs": [],
            "execution_count": null
        }
    ]
}