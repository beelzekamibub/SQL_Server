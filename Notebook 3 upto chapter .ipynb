{
    "metadata": {
        "kernelspec": {
            "name": "SQL",
            "display_name": "SQL",
            "language": "sql"
        },
        "language_info": {
            "name": "sql",
            "version": ""
        }
    },
    "nbformat_minor": 2,
    "nbformat": 4,
    "cells": [
        {
            "cell_type": "markdown",
            "source": [
                "## Grouping and Aggregating"
            ],
            "metadata": {
                "azdata_cell_guid": "6d3a3ee5-cbcb-4b5d-85f9-7dad85a6f677"
            },
            "attachments": {}
        },
        {
            "cell_type": "markdown",
            "source": [
                "### Aggregate Functions - these operators work on a set of values from mulyiple rows at once\n",
                "\n",
                "- COUNT - counts the number of non-NULL values in a column,works on BIT column, no other does.\n",
                "- SUM \n",
                "- AVG \n",
                "- MIN - can be used on character data as well as date and numeric\n",
                "- MAX\n",
                "\n",
                "AGGREGATE functions dont work on TEST,NTEST and IMAGE columns  \n",
                "<span style=\"color: var(--vscode-foreground);\">except for COUNT others dont work on special data types like hierarchyID</span>\n",
                "\n",
                "COUNT can be used with \\* to give the count of all the rows  \n",
                "  \n",
                "all the aggregate functions ignore null except for count when using with \\*\n",
                "\n",
                "  \n",
                "\n",
                "SYNTAX\n",
                "\n",
                "> SELECT \\<AGG FUNC\\>(\\<COL1\\>)  \n",
                "> FROM \\<TABLE\\>"
            ],
            "metadata": {
                "azdata_cell_guid": "efb0dbc9-4d03-406a-a543-d4120867ef28"
            },
            "attachments": {}
        },
        {
            "cell_type": "code",
            "source": [
                "SELECT COUNT(*) AS COUNTOFROWS,\r\n",
                "    MAX(H.TotalDue) AS MaxTotal,\r\n",
                "    MIN(H.TotalDue) AS MINTOTAL,\r\n",
                "    SUM(H.TotalDue) AS SUMOFTOTAL,\r\n",
                "    AVG(H.TotalDue) AS AVGTOTAL \r\n",
                "FROM Sales.SalesOrderHeader AS H;"
            ],
            "metadata": {
                "azdata_cell_guid": "84ecb796-a649-4988-8e33-c63fb7c7688e",
                "language": "sql"
            },
            "outputs": [],
            "execution_count": null
        },
        {
            "cell_type": "code",
            "source": [
                "SELECT MIN(Name) AS MinName,\r\n",
                " MAX(Name) AS MaxName,\r\n",
                " MIN(SellStartDate) AS MinSellStartDate\r\n",
                "FROM Production.Product;"
            ],
            "metadata": {
                "azdata_cell_guid": "2a24d8fa-5059-4ecf-b2c0-09a2f2119fa2",
                "language": "sql"
            },
            "outputs": [],
            "execution_count": null
        },
        {
            "cell_type": "code",
            "source": [
                "SELECT COUNT(*) AS CountOfRows,\r\n",
                " COUNT(Color) AS CountOfColor,\r\n",
                " COUNT(DISTINCT Color) AS CountOfDistinctColor\r\n",
                "FROM Production.Product;"
            ],
            "metadata": {
                "azdata_cell_guid": "ba007f25-f12a-419b-be9c-1ff0b618c16f",
                "language": "sql"
            },
            "outputs": [],
            "execution_count": null
        },
        {
            "cell_type": "markdown",
            "source": [
                "We can also have simple columns along wth aggregate functions as part of the same column."
            ],
            "metadata": {
                "azdata_cell_guid": "1a0e62a1-a0a6-4b15-9034-a301cf036a49"
            },
            "attachments": {}
        },
        {
            "cell_type": "markdown",
            "source": [
                "### Exercise 7.1\n",
                "\n",
                "Use the AdventureWorks2019 database to complete Questions 1 to 5. Switch to the WideWorldImporters database to complete this exercise."
            ],
            "metadata": {
                "azdata_cell_guid": "affb2174-73c2-4879-92e4-d832f6159608"
            },
            "attachments": {}
        },
        {
            "cell_type": "markdown",
            "source": [
                "1\\. Write a query to determine the number of customers in the Sales.Customer table."
            ],
            "metadata": {
                "azdata_cell_guid": "aa0531f6-3f78-4e62-9410-b2976d1b4820"
            },
            "attachments": {}
        },
        {
            "cell_type": "code",
            "source": [
                "SELECT COUNT(DISTINCT C.CustomerID)\r\n",
                "FROM Sales.Customer AS C;"
            ],
            "metadata": {
                "azdata_cell_guid": "01cc050e-9069-4778-8dc0-7e90cb85123e",
                "language": "sql"
            },
            "outputs": [],
            "execution_count": null
        },
        {
            "cell_type": "markdown",
            "source": [
                "2\\. Write a query that retrieves the total number of products ordered. Use the OrderQty column of the Sales.SalesOrderDetail table and the SUM function."
            ],
            "metadata": {
                "azdata_cell_guid": "00d7b2cb-b762-48e6-95cc-5255dfd322fd"
            },
            "attachments": {}
        },
        {
            "cell_type": "code",
            "source": [
                "SELECT SUM(OrderQty)\r\n",
                "FROM Sales.SalesOrderDetail"
            ],
            "metadata": {
                "azdata_cell_guid": "766b130b-8ee9-4e67-bc83-5c11c51829fd",
                "language": "sql"
            },
            "outputs": [],
            "execution_count": null
        },
        {
            "cell_type": "markdown",
            "source": [
                "3\\. Write a query to determine the price of the most expensive product ordered. Use the UnitPrice column of the Sales.SalesOrderDetail table."
            ],
            "metadata": {
                "azdata_cell_guid": "aef9c369-7fb4-4608-a3a1-4a2bc54ea9e6"
            },
            "attachments": {}
        },
        {
            "cell_type": "code",
            "source": [
                "SELECT MAX(D.UnitPrice)\r\n",
                "FROM Sales.SalesOrderDetail AS D;"
            ],
            "metadata": {
                "azdata_cell_guid": "9e724b80-40fd-4655-8fd3-f1072ed8cab2",
                "language": "sql"
            },
            "outputs": [],
            "execution_count": null
        },
        {
            "cell_type": "markdown",
            "source": [
                "4\\. Write a query to determine the average freight amount in the Sales. SalesOrderHeader table."
            ],
            "metadata": {
                "azdata_cell_guid": "e9eb651a-a911-4d5e-9665-a4b8cb6d8329"
            },
            "attachments": {}
        },
        {
            "cell_type": "code",
            "source": [
                "SELECT AVG(H.Freight)\r\n",
                "FROM Sales.SalesOrderHeader AS H;"
            ],
            "metadata": {
                "azdata_cell_guid": "722c428e-a4a3-4b0f-9240-24668cfc8385",
                "language": "sql"
            },
            "outputs": [],
            "execution_count": null
        },
        {
            "cell_type": "markdown",
            "source": [
                "5\\. Write a query using the Production.Product table that displays the minimum, maximum, and average ListPrice."
            ],
            "metadata": {
                "azdata_cell_guid": "5c896c27-ade3-439c-bb29-a2b24f1594c8"
            },
            "attachments": {}
        },
        {
            "cell_type": "code",
            "source": [
                "SELECT MIN(ListPrice),MAX(ListPrice),AVG(ListPrice) \r\n",
                "FROM Production.Product;"
            ],
            "metadata": {
                "azdata_cell_guid": "9b190e01-e013-4981-a82d-96740163cfe0",
                "language": "sql"
            },
            "outputs": [],
            "execution_count": null
        },
        {
            "cell_type": "markdown",
            "source": [
                "### GROUP BY\n",
                "\n",
                "use when we want aggreagation on the basis of some common value, use with categorical data"
            ],
            "metadata": {
                "azdata_cell_guid": "9c3591ae-3b31-4cfe-9743-5b0d66a467e6"
            },
            "attachments": {}
        },
        {
            "cell_type": "markdown",
            "source": [
                "### Grouping on columns\n",
                "\n",
                "- for when we wanto calculate the sum of all the orders grouped by the date or grouped by the customer\n",
                "- An additional column may be included in the select list, the column being the one we group the data on\n",
                "- once you have included normal non aggregate columns in the select list we must group by on them, or you will get an error\n",
                "\n",
                "SYNTAX\n",
                "\n",
                "> SELECT \\<AGG FUNC\\>(\\<COL1\\>), \\<COL2\\>\n",
                "> \n",
                "> FROM \\<TABLE\\> \n",
                "> \n",
                "> GROUP BY \\<COL2\\>"
            ],
            "metadata": {
                "azdata_cell_guid": "80fcc954-6aa8-4bad-9f5c-135d5e3b2f9b"
            },
            "attachments": {}
        },
        {
            "cell_type": "code",
            "source": [
                "SELECT CustomerID,SUM(TotalDue) AS TotalPerCustomer\r\n",
                "FROM Sales.SalesOrderHeader as H \r\n",
                "GROUP BY CustomerID;"
            ],
            "metadata": {
                "azdata_cell_guid": "bd8be422-dd17-42c8-9e00-66fa6e05d2f3",
                "language": "sql"
            },
            "outputs": [],
            "execution_count": null
        },
        {
            "cell_type": "code",
            "source": [
                "SELECT TerritoryID,AVG(TotalDue) AS AveragePerTerritory\r\n",
                "FROM Sales.SalesOrderHeader\r\n",
                "GROUP BY TerritoryID;"
            ],
            "metadata": {
                "azdata_cell_guid": "eebb7481-8484-423e-86ae-356ef689482f",
                "language": "sql"
            },
            "outputs": [],
            "execution_count": null
        },
        {
            "cell_type": "markdown",
            "source": [
                "### GROUP ON EXPRESSIONS\n",
                "\n",
                "- we can group on soem expression applied on some column as well"
            ],
            "metadata": {
                "azdata_cell_guid": "c5073679-6590-4fdd-b7ca-904f9ebf9fb6"
            },
            "attachments": {}
        },
        {
            "cell_type": "code",
            "source": [
                "SELECT COUNT(*) AS CountOfOrders, YEAR(OrderDate) AS OrderYear\r\n",
                "FROM Sales.SalesOrderHeader\r\n",
                "GROUP BY YEAR(OrderDate);"
            ],
            "metadata": {
                "azdata_cell_guid": "0cf6a553-f694-4d1d-96f5-cd09ed63d93b",
                "language": "sql"
            },
            "outputs": [],
            "execution_count": null
        },
        {
            "cell_type": "markdown",
            "source": [
                "- you must group by on the same expressio in the selelct list else the result will ont be what you expected"
            ],
            "metadata": {
                "azdata_cell_guid": "d4fd44eb-dc0d-429c-9267-52fcfce4f487"
            },
            "attachments": {}
        },
        {
            "cell_type": "markdown",
            "source": [
                "EXERCISE 7.2\n",
                "\n",
                "Use the AdventureWorks2019 database to complete Questions 1 to 4. Switch to the WideWorldImporters database to complete the exercise."
            ],
            "metadata": {
                "azdata_cell_guid": "39b93aad-cd49-45f6-a541-603d51f3a758"
            },
            "attachments": {}
        },
        {
            "cell_type": "markdown",
            "source": [
                "1\\. Write a query that shows the total number of items ordered for each product. Use the Sales.SalesOrderDetail table to write the query."
            ],
            "metadata": {
                "azdata_cell_guid": "18389366-26b3-4fab-97fb-4574cd44d9bc"
            },
            "attachments": {}
        },
        {
            "cell_type": "code",
            "source": [
                "SELECT COUNT(D.OrderQty),P.Name\r\n",
                "FROM Sales.SalesOrderDetail AS D\r\n",
                "INNER JOIN Production.Product AS P ON P.ProductID=D.ProductID\r\n",
                "GROUP BY P.Name"
            ],
            "metadata": {
                "azdata_cell_guid": "d124d482-967d-4b02-9be6-558e08ffa914",
                "language": "sql"
            },
            "outputs": [],
            "execution_count": null
        }
    ]
}