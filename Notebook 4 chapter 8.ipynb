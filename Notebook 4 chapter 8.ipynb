{
    "metadata": {
        "kernelspec": {
            "name": "SQL",
            "display_name": "SQL",
            "language": "sql"
        },
        "language_info": {
            "name": "sql",
            "version": ""
        }
    },
    "nbformat_minor": 2,
    "nbformat": 4,
    "cells": [
        {
            "cell_type": "markdown",
            "source": [
                "## Window functions\n",
                "\n",
                "- operate of a set of data, after the filtering and the grouping is done, like maybe sum\n",
                "- for each row of the result of a query the window functions looks forward the size of window to calculate some aggregation\n",
                "- defined using the over clause\n",
                "- allowed only in the set and order by clauses, to get around this we can use CTEs or subqueries\n",
                "\n",
                "### types of window functions\n",
                "\n",
                "1. ranking functions - adds a rank, or divides into a buckets\n",
                "2. window aggregates - to calculate some summary\n",
                "3. accumulating  aggregates - moving calculations, rolling window, prefix sum\n",
                "4. analytic functions - scalar functions"
            ],
            "metadata": {
                "azdata_cell_guid": "925db9ef-19ad-4aa5-9ac7-16d0769acef8"
            },
            "attachments": {}
        },
        {
            "cell_type": "markdown",
            "source": [
                "### ranking functions\n",
                "\n",
                "1. ROW\\_NUMBER\n",
                "2. RANK\n",
                "3. DENSE\\_RANK\n",
                "4. NTILE - divides a set of rows into buckets\n",
                "\n",
                "defining the window  \n",
                "OVER clause defines the window for the ranking functions \n",
                "\n",
                "syntax of OVER with order by\n",
                "\n",
                "> SELECT \\[\\<COL1\\>,\\<COL2\\>\\]\\[\\<COL3\\>,\\] RANK() OVER(ORDER BY \\<COL1\\>\\[,\\<COL2\\]) AS RankNum  \n",
                "> <span style=\"color: var(--vscode-foreground);\">from &lt;table&gt;;</span>\n",
                "> \n",
                "> SELECT \\[\\<COL1\\>,\\<COL2\\>\\]\\[\\<COL3\\>,\\] ROW\\_NUMBER() OVER(ORDER BY \\<COL1\\>\\[,\\<COL2\\]) AS RankNum  \n",
                "> <span style=\"color: var(--vscode-foreground);\">from &lt;table&gt;;</span>\n",
                "\n",
                "In this case the over clause specifies the order or the rows which the determines how the window function is applied  \n",
                "the order by inside the over clause has nothing to do with the order by used to sort the data"
            ],
            "metadata": {
                "azdata_cell_guid": "098e461f-71cd-412d-ba75-02a3c9b15700"
            },
            "attachments": {}
        },
        {
            "cell_type": "markdown",
            "source": [
                "the over clause must always contain an order by expression when working with the ranking functions (RANK, ROW\\_NUMBER, DENSE\\_RANK)  \n",
                "\n",
                "these functions differ in how they resolve ties and duplicates, if the column we are ordering by is unique then the results are the same"
            ],
            "metadata": {
                "azdata_cell_guid": "2d20d248-ee5c-4e0d-b94e-887b73268e93"
            },
            "attachments": {}
        },
        {
            "cell_type": "code",
            "source": [
                "SELECT CustomerID,\r\n",
                "    ROW_NUMBER() OVER(ORDER BY CustomerID) AS ROWNUM,\r\n",
                "    RANK() OVER(ORDER BY CustomerID) AS RANK,\r\n",
                "    DENSE_RANK() OVER(ORDER BY CustomerID) AS DENSERANK,\r\n",
                "    ROW_NUMBER() OVER(ORDER BY CustomerID DESC) AS DescRowNumber\r\n",
                "FROM Sales.Customer\r\n",
                "WHERE CustomerID BETWEEN 11000 AND 11200\r\n",
                "ORDER BY CustomerID;\r\n",
                "\r\n",
                "SELECT CustomerID,\r\n",
                "    ROW_NUMBER() OVER(ORDER BY CustomerID) AS ROWNUM,\r\n",
                "    RANK() OVER(ORDER BY CustomerID) AS RANK,\r\n",
                "    DENSE_RANK() OVER(ORDER BY CustomerID) AS DENSERANK,\r\n",
                "    ROW_NUMBER() OVER(ORDER BY CustomerID DESC) AS DescRowNumber\r\n",
                "FROM Sales.SalesOrderHeader\r\n",
                "WHERE CustomerID BETWEEN 11000 AND 11200\r\n",
                "ORDER BY CustomerID;"
            ],
            "metadata": {
                "azdata_cell_guid": "8e5aac95-4799-4cf2-af53-225fc733c8f8",
                "language": "sql"
            },
            "outputs": [],
            "execution_count": null
        },
        {
            "cell_type": "markdown",
            "source": [
                "NTILE function\n",
                "\n",
                "> SELECT \\<COL1\\>, NTILE(\\<NUMBER OF BUCKETS\\>) OVER(ORDER BY \\<COL3\\>)  \n",
                "> <span style=\"color: var(--vscode-foreground);\">FROM &lt;TABLE&gt;</span>\n",
                "\n",
                "it takes a required arguments and returns that many buckets"
            ],
            "metadata": {
                "azdata_cell_guid": "14ed8de1-e6ac-432f-92e5-f6d6a4a0cad2"
            },
            "attachments": {}
        },
        {
            "cell_type": "code",
            "source": [
                "SELECT SP.FirstName,SP.LastName,\r\n",
                "    SUM(H.TotalDue) AS TotalSales,\r\n",
                "    NTILE(4) OVER(ORDER BY SUM(H.TotalDue)) AS BUCKET\r\n",
                "FROM Sales.vSalesPerson AS SP\r\n",
                "JOIN Sales.SalesOrderHeader AS H \r\n",
                "ON SP.BusinessEntityID=H.SalesPersonID\r\n",
                "WHERE H.OrderDate>='2013-01-01' AND H.OrderDate <'2014-01-01'\r\n",
                "GROUP BY SP.FirstName, SP.LastName\r\n",
                "ORDER BY TotalSales; "
            ],
            "metadata": {
                "azdata_cell_guid": "10716b2c-cee9-4dfe-ad9c-e7d86f0f6db5",
                "language": "sql"
            },
            "outputs": [
                {
                    "output_type": "display_data",
                    "data": {
                        "text/html": "(17 rows affected)"
                    },
                    "metadata": {}
                },
                {
                    "output_type": "display_data",
                    "data": {
                        "text/html": "Total execution time: 00:00:00.032"
                    },
                    "metadata": {}
                },
                {
                    "output_type": "execute_result",
                    "metadata": {},
                    "execution_count": 5,
                    "data": {
                        "application/vnd.dataresource+json": {
                            "schema": {
                                "fields": [
                                    {
                                        "name": "FirstName"
                                    },
                                    {
                                        "name": "LastName"
                                    },
                                    {
                                        "name": "TotalSales"
                                    },
                                    {
                                        "name": "BUCKET"
                                    }
                                ]
                            },
                            "data": [
                                {
                                    "FirstName": "Syed",
                                    "LastName": "Abbas",
                                    "TotalSales": "171606.5918",
                                    "BUCKET": "1"
                                },
                                {
                                    "FirstName": "Stephen",
                                    "LastName": "Jiang",
                                    "TotalSales": "485880.642",
                                    "BUCKET": "1"
                                },
                                {
                                    "FirstName": "Amy",
                                    "LastName": "Alberts",
                                    "TotalSales": "632002.5989",
                                    "BUCKET": "1"
                                },
                                {
                                    "FirstName": "Lynn",
                                    "LastName": "Tsoflias",
                                    "TotalSales": "946893.316",
                                    "BUCKET": "1"
                                },
                                {
                                    "FirstName": "Pamela",
                                    "LastName": "Ansman-Wolfe",
                                    "TotalSales": "1087554.1318",
                                    "BUCKET": "1"
                                },
                                {
                                    "FirstName": "Rachel",
                                    "LastName": "Valdez",
                                    "TotalSales": "1407493.9446",
                                    "BUCKET": "2"
                                },
                                {
                                    "FirstName": "Tete",
                                    "LastName": "Mensa-Annan",
                                    "TotalSales": "1433786.4111",
                                    "BUCKET": "2"
                                },
                                {
                                    "FirstName": "David",
                                    "LastName": "Campbell",
                                    "TotalSales": "1525864.3155",
                                    "BUCKET": "2"
                                },
                                {
                                    "FirstName": "Garrett",
                                    "LastName": "Vargas",
                                    "TotalSales": "1567161.7302",
                                    "BUCKET": "2"
                                },
                                {
                                    "FirstName": "José",
                                    "LastName": "Saraiva",
                                    "TotalSales": "2112546.1213",
                                    "BUCKET": "3"
                                },
                                {
                                    "FirstName": "Tsvi",
                                    "LastName": "Reiter",
                                    "TotalSales": "2467043.2031",
                                    "BUCKET": "3"
                                },
                                {
                                    "FirstName": "Shu",
                                    "LastName": "Ito",
                                    "TotalSales": "2695240.5743",
                                    "BUCKET": "3"
                                },
                                {
                                    "FirstName": "Ranjit",
                                    "LastName": "Varkey Chudukatil",
                                    "TotalSales": "2987333.7048",
                                    "BUCKET": "3"
                                },
                                {
                                    "FirstName": "Jillian",
                                    "LastName": "Carson",
                                    "TotalSales": "3827980.3627",
                                    "BUCKET": "4"
                                },
                                {
                                    "FirstName": "Michael",
                                    "LastName": "Blythe",
                                    "TotalSales": "4490942.2011",
                                    "BUCKET": "4"
                                },
                                {
                                    "FirstName": "Jae",
                                    "LastName": "Pak",
                                    "TotalSales": "4630339.2509",
                                    "BUCKET": "4"
                                },
                                {
                                    "FirstName": "Linda",
                                    "LastName": "Mitchell",
                                    "TotalSales": "4637217.833",
                                    "BUCKET": "4"
                                }
                            ]
                        },
                        "text/html": [
                            "<table>",
                            "<tr><th>FirstName</th><th>LastName</th><th>TotalSales</th><th>BUCKET</th></tr>",
                            "<tr><td>Syed</td><td>Abbas</td><td>171606.5918</td><td>1</td></tr>",
                            "<tr><td>Stephen</td><td>Jiang</td><td>485880.642</td><td>1</td></tr>",
                            "<tr><td>Amy</td><td>Alberts</td><td>632002.5989</td><td>1</td></tr>",
                            "<tr><td>Lynn</td><td>Tsoflias</td><td>946893.316</td><td>1</td></tr>",
                            "<tr><td>Pamela</td><td>Ansman-Wolfe</td><td>1087554.1318</td><td>1</td></tr>",
                            "<tr><td>Rachel</td><td>Valdez</td><td>1407493.9446</td><td>2</td></tr>",
                            "<tr><td>Tete</td><td>Mensa-Annan</td><td>1433786.4111</td><td>2</td></tr>",
                            "<tr><td>David</td><td>Campbell</td><td>1525864.3155</td><td>2</td></tr>",
                            "<tr><td>Garrett</td><td>Vargas</td><td>1567161.7302</td><td>2</td></tr>",
                            "<tr><td>José</td><td>Saraiva</td><td>2112546.1213</td><td>3</td></tr>",
                            "<tr><td>Tsvi</td><td>Reiter</td><td>2467043.2031</td><td>3</td></tr>",
                            "<tr><td>Shu</td><td>Ito</td><td>2695240.5743</td><td>3</td></tr>",
                            "<tr><td>Ranjit</td><td>Varkey Chudukatil</td><td>2987333.7048</td><td>3</td></tr>",
                            "<tr><td>Jillian</td><td>Carson</td><td>3827980.3627</td><td>4</td></tr>",
                            "<tr><td>Michael</td><td>Blythe</td><td>4490942.2011</td><td>4</td></tr>",
                            "<tr><td>Jae</td><td>Pak</td><td>4630339.2509</td><td>4</td></tr>",
                            "<tr><td>Linda</td><td>Mitchell</td><td>4637217.833</td><td>4</td></tr>",
                            "</table>"
                        ]
                    }
                }
            ],
            "execution_count": 5
        }
    ]
}