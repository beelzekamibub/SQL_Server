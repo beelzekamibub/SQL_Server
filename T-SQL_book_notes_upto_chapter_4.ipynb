{
    "metadata": {
        "kernelspec": {
            "name": "SQL",
            "display_name": "SQL",
            "language": "sql"
        },
        "language_info": {
            "name": "sql",
            "version": ""
        }
    },
    "nbformat_minor": 2,
    "nbformat": 4,
    "cells": [
        {
            "cell_type": "markdown",
            "source": [
                "ctrl shift c ctrl shift t ctrl shift r"
            ],
            "metadata": {
                "azdata_cell_guid": "cd6c4bc8-29cb-4e36-8f3e-80c21f842366"
            },
            "attachments": {}
        },
        {
            "cell_type": "markdown",
            "source": [
                "### Common definitions\n",
                "\n",
                "1. Views - a stored query definition that can be used to simplify writing T-SQL statements or to secure data access, can be thought of as simplified data design to perform queries faster\n",
                "2. Stored Procedures - stored script that can include queries, DDL to create or modify objects and programming logic. they can return tabular data.\n",
                "3. User defined functions - similar to stored procedures but can return tabular data as well as single value, cant affect anything outside the function.\n",
                "4. Indexes - data structure that increases the speed of queries\n",
                "5. Constraints - rules that govern the behavious and permissible values of the table and the columns\n",
                "6. Triggers - special type of stored procedures that fires when something happens in the database like when a row is inserted or when an object is created\n",
                "7. Sequences - User defined object that generates a sequence of numbers \n",
                "8. Assemblies - references to database objects created in a .Net language, this functionality is valled common language runtime (CLR) integration"
            ],
            "metadata": {
                "azdata_cell_guid": "a13791f3-b148-4418-92ef-c1f4e5845e50"
            },
            "attachments": {}
        },
        {
            "cell_type": "markdown",
            "source": [
                "### SQL server files\n",
                "\n",
                "- a database must have 2 files \n",
                "\n",
                "1. data file with .mdf extension\n",
                "2. log file with .ldf extension\n",
                "\n",
                "- additional data files if used have the .ndf extension\n",
                "- data files can be grouped together strategically to backup only portions of the database\n",
                "- log file stored transactions or changes to the data to ensure consistency\n",
                "- backups of the log files can be taken for DB restoration"
            ],
            "metadata": {
                "azdata_cell_guid": "35219a4f-0d4f-4e45-82e3-9efd02f29bfa"
            },
            "attachments": {}
        },
        {
            "cell_type": "markdown",
            "source": [
                "### some notes\n",
                "\n",
                "- each table in a normalized database should hold information about only one type of entity and a primary key.\n",
                "- each column has a definition specifying a data type along with rules AKA constraints.\n",
                "- we can have a computed data type where the value of the column is calculated with a formula \n",
                "    - ![](data:image/png;base64,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)\n",
                "- we can have user defined data types as well\n",
                "    - like a phone number in the adventure works DB\n",
                "- we can create custom data types called CLR data types with multiple properties and methods using a .NET language such as C#"
            ],
            "metadata": {
                "azdata_cell_guid": "ca52a5dc-99ec-4d51-894f-5ab43da47f6e"
            },
            "attachments": {}
        },
        {
            "cell_type": "markdown",
            "source": [
                "### Indexes\n",
                "\n",
                "- everytime we create a key or a unique column we place an index on the column\n",
                "- indexes are stored separately from the data but accessed automatically when we run a query\n",
                "- and are updated everytime a row is added or removed from the table\n",
                "- index is a data structure to help DB look up information fast, usually a balanced tree on data that can be ordered and searched using the equality operators \\<,\\>,\\<=,\\>=,==, and between\n",
                "- its created automatically but we can create it with create index command\n",
                "- instead of Btrees there are other generalized types of indexes as well\n",
                "\n",
                "kinds of indexes\n",
                "\n",
                "1. clustered\n",
                "2. stores and organizes the table\n",
                "3. arrange the data in the table like sort to make look up faster\n",
                "4. a table can have only one clustered index thats because its just the entire table sorted on the cluster key\n",
                "5. when we add new rows old rows dont have to move for them to stay in order because the new row will be added into the correct data page which will have some free space\n",
                "6. a list of pointers is maintained to keep track of the order of the pages, so the rows in the other pages wont have to move\n",
                "7. usually the primary key is used as the cluster key\n",
                "8. non-clustered\n",
                "9. defined on one or more columns of the table, its a separate strcuture that points to the actual table\n",
                "10. stores the data and records in different tablesso that scanning records is faster to look for the data you want\n",
                "11. we can have 999 unclustered index per table\n",
                "12. these may be actually used if working with sparse columns\n",
                "\n",
                "indexes are optional but greatly improve performance when properly designed and implemented\n",
                "\n",
                "but they can also take up disk space\n",
                "\n",
                "If a table has four nonclustered indexes, every write to that table may require four additional writes to keep the indexes up to date\n",
                "\n",
                "### Example\n",
                "\n",
                "- phone directory, primary key is the phone number but the cluster key is the first name plus the last name\n",
                "- if the name starts with d you start looking in the beginning of the directory in your brain you did this calculation\n",
                "    - mid alphabet is j or k and d\\<j or k so it must be in the first half, thats basically a binary search\n",
                "\n",
                "### schemas\n",
                "\n",
                "- a collection to organize database objects and tables within the database\n",
                "- a User has a default schema and when accessing an object in the default schema you dont have to specify the schema name but tis good practice to do so\n",
                "- if a user has permission to create new objects the objects belong to the user's default schema unless specified other wise"
            ],
            "metadata": {
                "azdata_cell_guid": "47b25e68-9a94-4896-b3d8-c40a3fcb0692"
            },
            "attachments": {}
        },
        {
            "cell_type": "markdown",
            "source": [
                "### SELECT queries\n",
                "\n",
                "- In a select statement from is the first clause the database engine evaluates\n",
                "- The word GO doesn’t really do anything except divide the code up into separate distinct code batches."
            ],
            "metadata": {
                "azdata_cell_guid": "5757bfff-74f4-4899-94c9-95cf575910a7"
            },
            "attachments": {}
        },
        {
            "cell_type": "code",
            "source": [
                "USE AdventureWorks2022;\r\n",
                "--changing to the example database\r\n",
                "GO\r\n",
                "SELECT BusinessEntityID, JobTitle\r\n",
                "FROM HumanResources.Employee;"
            ],
            "metadata": {
                "azdata_cell_guid": "8c3bc9de-4e83-4b3d-b07b-b7b7e905ba9c",
                "language": "sql"
            },
            "outputs": [],
            "execution_count": null
        },
        {
            "cell_type": "markdown",
            "source": [
                "- Column and table names need to follow specific naming rules so that SQL Server’s parser can recognize them. When a table, column, or database has a name that doesn’t follow those rules, you can still use that name, but you must enclose it within square brackets (\\[\\]).\n",
                "- SQL Server allows you to create or rename a column within a query by using what is known as an alias. You use the keyword AS to specify an alias for the column.\n",
                "- You can specify an alias name immediately following a column name. If an alias contains a space or is a reserved word—basically, keywords used to write T-SQL statements—you can surround the alias with square brackets, single quotes, or double quotes."
            ],
            "metadata": {
                "azdata_cell_guid": "e98d100c-cc53-424d-ac1f-9e7d9f7dc6ea"
            },
            "attachments": {}
        },
        {
            "cell_type": "code",
            "source": [
                "SELECT 'A Literal Value' AS \"Literal Value\",\r\n",
                "BusinessEntityID AS EmployeeID,\r\n",
                "LoginID,\r\n",
                "JobTitle\r\n",
                "FROM HumanResources.Employee;"
            ],
            "metadata": {
                "azdata_cell_guid": "4ab79e4f-73b5-42fd-94b7-b05ae8c1a7b3",
                "language": "sql",
                "tags": []
            },
            "outputs": [],
            "execution_count": null
        },
        {
            "cell_type": "code",
            "source": [
                "SELECT EMP.JobTitle\r\n",
                "FROM HumanResources.Employee AS EMP;"
            ],
            "metadata": {
                "azdata_cell_guid": "d128ab34-5a20-42aa-be5e-0a4b8587b70d",
                "language": "sql"
            },
            "outputs": [],
            "execution_count": null
        },
        {
            "cell_type": "markdown",
            "source": [
                "There is a property called collation that determines whether or not case matters. If the database is set to use a case-sensitive collation, then the names of the tables and columns must match exactly.  \n",
                "  \n",
                "\n",
                "single quotes are used for literal values\n",
                "\n",
                "double quotes for column names, aliases and table names and aliases. double quotes or square brackets are necessary when name contains a space or is a keyword"
            ],
            "metadata": {
                "azdata_cell_guid": "0605b284-f488-4fac-b11c-287918e677da"
            },
            "attachments": {}
        },
        {
            "cell_type": "markdown",
            "source": [
                "1. <span style=\"color: var(--vscode-foreground);\">Switch to the AdventureWorks database&nbsp;</span> <span style=\"color: var(--vscode-foreground);\">Write a SELECT statement that lists the customers. Include the CustomerID, StoreID, and AccountNumber columns from the Sales.Customer table.</span>"
            ],
            "metadata": {
                "azdata_cell_guid": "6d9c45c7-2d0a-41cd-b7ac-a2e2e07e9d82"
            },
            "attachments": {}
        },
        {
            "cell_type": "code",
            "source": [
                "SELECT cus.CustomerID, cus.StoreID, cus.AccountNumber\r\n",
                "FROM Sales.Customer AS cus;"
            ],
            "metadata": {
                "azdata_cell_guid": "8db8397b-33f7-40db-ab3b-e2d8f1b0c921",
                "language": "sql",
                "tags": []
            },
            "outputs": [],
            "execution_count": null
        },
        {
            "cell_type": "markdown",
            "source": [
                "2\\. Write a SELECT statement that lists the name, product number, and color of each product from the Production.Product table."
            ],
            "metadata": {
                "azdata_cell_guid": "b46148b8-95d3-464c-92a0-d9ee3a97d611"
            },
            "attachments": {}
        },
        {
            "cell_type": "code",
            "source": [
                "SELECT prod.Name, prod.Color\r\n",
                "FROM Production.Product as prod;"
            ],
            "metadata": {
                "azdata_cell_guid": "2f6ac9db-ae85-485a-b15d-5a11dbaa80ab",
                "language": "sql"
            },
            "outputs": [],
            "execution_count": null
        },
        {
            "cell_type": "markdown",
            "source": [
                "3\\. Write a SELECT statement that lists the customer ID numbers and sales order ID numbers from the Sales.SalesOrderHeader table."
            ],
            "metadata": {
                "azdata_cell_guid": "191b8390-b3f2-4531-b60f-8e54230f11bf"
            },
            "attachments": {}
        },
        {
            "cell_type": "code",
            "source": [
                "SELECT sales.CustomerID,sales.SalesOrderID\r\n",
                "FROM Sales.SalesOrderHeader AS sales;"
            ],
            "metadata": {
                "azdata_cell_guid": "06d2d286-7bb9-4155-9bcf-d0b15315a602",
                "language": "sql"
            },
            "outputs": [],
            "execution_count": null
        },
        {
            "cell_type": "markdown",
            "source": [
                "4\\. Switch to the WideWorldImporters database for the remaining questions in this exercise. Write a SELECT statement that lists only the StateProvinceCode and the StateProvinceName from the Application.StateProvinces table. Include a literal value as the first column in the SELECT list: 'State Abbr/Name:'."
            ],
            "metadata": {
                "azdata_cell_guid": "fddaa848-34ba-46e4-b82d-42f76f41186e"
            },
            "attachments": {}
        },
        {
            "cell_type": "code",
            "source": [
                "SELECT 'omaewa mo shindeiru' AS \"nani\", StateProvinceCode, StateProvinceName\r\n",
                "from Application.StateProvinces;"
            ],
            "metadata": {
                "azdata_cell_guid": "b58098e2-a3e0-4e65-9c44-5f8bcee03373",
                "language": "sql",
                "tags": []
            },
            "outputs": [],
            "execution_count": null
        },
        {
            "cell_type": "markdown",
            "source": [
                "### Filtering data with the WHERE clause\n",
                "\n",
                "1. the database engine evaluates the WHERE clause second after the FROM statement\n",
                "2. <span style=\"font-size: 14px; color: var(--vscode-foreground);\">the where clause expects predicates that can be calculated to true/false or unknown</span>\n",
                "\n",
                "<span style=\"font-size: 14px;\"><mark data-markjs=\"true\" class=\"rangeHighlight\">Syntax</mark></span>\n",
                "\n",
                "> SELECT \\<c1\\>,\\<c2\\> \n",
                "> \n",
                "> <span style=\"color: var(--vscode-foreground);\">FROM &lt;schema&gt;.&lt;table&gt;&nbsp;</span> \n",
                "> \n",
                "> <span style=\"color: var(--vscode-foreground);\">WHERE &lt;column&gt;=&lt;val&gt;;</span>\n",
                "\n",
                "Examples"
            ],
            "metadata": {
                "azdata_cell_guid": "ba26f005-738a-4c40-9baf-50d6dc268993"
            },
            "attachments": {}
        },
        {
            "cell_type": "code",
            "source": [
                "SELECT CustomerID, SalesOrderID\r\n",
                "FROM Sales.SalesOrderHeader\r\n",
                "WHERE CustomerID=11000;\r\n",
                "\r\n",
                "SELECT CustomerID, SalesOrderID, OrderDate\r\n",
                "FROM Sales.SalesOrderHeader\r\n",
                "WHERE OrderDate = '2011-07-02';\r\n",
                "\r\n",
                "SELECT BusinessEntityID, LoginID, JobTitle\r\n",
                "FROM HumanResources.Employee\r\n",
                "WHERE JobTitle = 'Chief Executive Officer';\r\n",
                "\r\n",
                "-- single line comment\r\n",
                "\r\n",
                "/*\r\n",
                "multi line\r\n",
                "comment\r\n",
                "*/"
            ],
            "metadata": {
                "azdata_cell_guid": "6de731e0-2ca1-40ed-a97b-492244a32678",
                "language": "sql"
            },
            "outputs": [],
            "execution_count": null
        },
        {
            "cell_type": "markdown",
            "source": [
                "### other operators to use with WHERE\n",
                "\n",
                "1. \\\\\\>\n",
                "2. \\<\n",
                "3. \\=\n",
                "4. \\<=\n",
                "5. \\\\\\>=\n",
                "6. \\<\\>\n",
                "7. !=\n",
                "8. !\\<\n",
                "9. !\\>\n",
                "10. BETWEEN"
            ],
            "metadata": {
                "azdata_cell_guid": "fa76db09-dc74-42d0-b9bf-7169a9612444"
            },
            "attachments": {}
        },
        {
            "cell_type": "code",
            "source": [
                "SELECT top 10 BusinessEntityID, FirstName\r\n",
                "FROM Person.Person\r\n",
                "WHERE FirstName > 'M';"
            ],
            "metadata": {
                "azdata_cell_guid": "0b1df0d9-f609-47e4-8263-b05a1ffc21bf",
                "language": "sql"
            },
            "outputs": [],
            "execution_count": null
        },
        {
            "cell_type": "markdown",
            "source": [
                "if we do firstname \\> 'M'  \n",
                "you may think that only rows with the first name beginning with the letter N or later in the alphabet should be returned. However, if any FirstName value begins with M followed by at least one additional character, the value is greater than M, so the row will be returned.\n",
                "\n",
                "!\\> 'M' will mean \\<= 'M'"
            ],
            "metadata": {
                "azdata_cell_guid": "180fbcfc-e340-4b67-bfd8-3cba9fc5ad0e"
            },
            "attachments": {}
        },
        {
            "cell_type": "markdown",
            "source": [
                "BETWEEN operator with the WHERE clause  \n",
                "usually used with dates, and the the edges of our logical clause are included in the result\n",
                "\n",
                "when using the between operator the frist value must be smaller\n",
                "\n",
                "<mark><mark><mark>Syntax</mark></mark></mark>\n",
                "\n",
                "> SELECT c1, c2  \n",
                "> <span style=\"color: var(--vscode-foreground);\">FROM schema.table<br></span><span style=\"color: var(--vscode-foreground);\">WHERE c3 BETWEEN val1 AND val2</span>"
            ],
            "metadata": {
                "azdata_cell_guid": "1123da92-98bc-439f-b146-579299c1354f"
            },
            "attachments": {}
        },
        {
            "cell_type": "code",
            "source": [
                "SELECT CustomerID, SalesOrderID, OrderDate\r\n",
                "FROM Sales.SalesOrderHeader\r\n",
                "WHERE OrderDate BETWEEN '2011-07-02' AND '2011-07-04';\r\n",
                "\r\n",
                "SELECT CustomerID, SalesOrderID, OrderDate\r\n",
                "FROM Sales.SalesOrderHeader\r\n",
                "WHERE CustomerID BETWEEN 25000 AND 25005;\r\n",
                "\r\n",
                "SELECT BusinessEntityID, JobTitle\r\n",
                "FROM HumanResources.Employee\r\n",
                "WHERE JobTitle BETWEEN 'C' and 'E';"
            ],
            "metadata": {
                "azdata_cell_guid": "762e0291-c659-48d8-a318-85de07c08ba6",
                "language": "sql"
            },
            "outputs": [],
            "execution_count": null
        },
        {
            "cell_type": "markdown",
            "source": [
                "in the result of the query 3 you wont see any results starting with letter E because there are no jobs listings with only the letter E and since \"EA\" is actually \\> \"E\" it wont be included in \" BETWEEN 'C' AND 'E' \"\n",
                "\n",
                "we can also use the NOT operator with BETWEEN to find values outside the particular range and the values being used will not be part of the result as we can see by running the below query"
            ],
            "metadata": {
                "azdata_cell_guid": "3217820d-6b57-4c87-bc8d-6e19e005f8e1"
            },
            "attachments": {}
        },
        {
            "cell_type": "code",
            "source": [
                "SELECT CustomerID, SalesOrderID, OrderDate\r\n",
                "FROM Sales.SalesOrderHeader\r\n",
                "WHERE CustomerID BETWEEN 11001 AND 11005;\r\n",
                "\r\n",
                "SELECT CustomerID, SalesOrderID, OrderDate\r\n",
                "FROM Sales.SalesOrderHeader\r\n",
                "WHERE CustomerID NOT BETWEEN 11001 AND 11005 ORDER BY CustomerID ASC ;"
            ],
            "metadata": {
                "azdata_cell_guid": "e8b26067-4ba5-45b1-b215-a75606bcfe3a",
                "language": "sql"
            },
            "outputs": [],
            "execution_count": null
        },
        {
            "cell_type": "code",
            "source": [
                "SELECT BusinessEntityID, JobTitle\r\n",
                "FROM HumanResources.Employee\r\n",
                "WHERE JobTitle NOT BETWEEN 'C' and 'E';"
            ],
            "metadata": {
                "azdata_cell_guid": "c8650d97-78a5-4f27-b7e5-899ad4da45da",
                "language": "sql"
            },
            "outputs": [],
            "execution_count": null
        },
        {
            "cell_type": "markdown",
            "source": [
                "the query above will show job titles like executive because executive \\> e"
            ],
            "metadata": {
                "azdata_cell_guid": "cfb43c76-3e00-4bcb-8f3b-7336d2737859"
            },
            "attachments": {}
        },
        {
            "cell_type": "markdown",
            "source": [
                "Another thing to notice is all these queries will return 00:00:00 in the time part of the date and time fields by default to get the time values we have to take it into account and modify our query for it.  \n",
                "this happens because we were attempting to filter on such a column specifying only the date"
            ],
            "metadata": {
                "azdata_cell_guid": "15b90282-3d3f-4b1d-9a02-87a1cf33cac1"
            },
            "attachments": {}
        },
        {
            "cell_type": "code",
            "source": [
                "DROP TABLE IF EXISTS DateTimeExample;\r\n",
                "CREATE TABLE DateTimeExample(\r\n",
                "    ID INT NOT NULL IDENTITY PRIMARY KEY,\r\n",
                "    MyDate DATETIME2(0) NOT NULL,\r\n",
                "    MyValue VARCHAR(25) NOT NULL\r\n",
                ");\r\n",
                "\r\n",
                "GO\r\n",
                "INSERT INTO DateTimeExample(MyDate,MyValue)\r\n",
                "VALUES ('2020-01-02 10:30','Bike'),\r\n",
                " ('2020-01-03 13:00','Trike'),\r\n",
                " ('2020-01-03 13:10','Bell'),\r\n",
                " ('2020-01-03 17:35','Seat');"
            ],
            "metadata": {
                "azdata_cell_guid": "b6eb7b0c-6643-48b1-a62a-3e2cf94d177c",
                "language": "sql"
            },
            "outputs": [
                {
                    "output_type": "display_data",
                    "data": {
                        "text/html": "Commands completed successfully."
                    },
                    "metadata": {}
                },
                {
                    "output_type": "display_data",
                    "data": {
                        "text/html": "(4 rows affected)"
                    },
                    "metadata": {}
                },
                {
                    "output_type": "display_data",
                    "data": {
                        "text/html": "Total execution time: 00:00:00.011"
                    },
                    "metadata": {}
                }
            ],
            "execution_count": 24
        },
        {
            "cell_type": "code",
            "source": [
                "SELECT ID, MyDate, MyValue\r\n",
                "FROM DateTimeExample\r\n",
                "WHERE MyDate = '2020-01-03';\r\n",
                "\r\n",
                "SELECT ID, MyDate, MyValue\r\n",
                "FROM DateTimeExample\r\n",
                "WHERE MyDate BETWEEN '2020-01-03 00:00:00' AND '2020-01-03 23:59:59';"
            ],
            "metadata": {
                "azdata_cell_guid": "74d6d7a0-b908-4531-bd40-b76963de231f",
                "language": "sql"
            },
            "outputs": [],
            "execution_count": null
        },
        {
            "cell_type": "markdown",
            "source": [
                "By running the above queries you will see that the first query returns nothing meaning it was not able to match the date only to the value in the database  \n",
                "<span style=\"color: var(--vscode-foreground);\">and by the result of the second query you can see we needed to give the time as well because that was also in the database with the date&nbsp;<br></span> the above second query should be written with 2 conditionals actually if we want to use only the date part one filtering for dates greater than or equal to 2020-01-03 and another filtering for dates less than 2020- 01-04.<span style=\"color: var(--vscode-foreground);\"><br></span>\n",
                "\n",
                "<span style=\"color: var(--vscode-foreground);\">if the date time field is like&nbsp;</span>  yyyy-mm-dd <span style=\"color: var(--vscode-foreground);\">00:00:00 then we will be able to match the field with yyyy-mm-dd only&nbsp;</span>"
            ],
            "metadata": {
                "azdata_cell_guid": "6ebe7eda-3b94-4552-9de2-6858472f03f0"
            },
            "attachments": {}
        },
        {
            "cell_type": "code",
            "source": [
                "INSERT INTO DateTimeExample(MyDate,MyValue)\r\n",
                "VALUES ('2020-01-02 00:00:00','Bike')\r\n",
                "\r\n",
                "SELECT ID, MyDate, MyValue\r\n",
                "FROM DateTimeExample\r\n",
                "WHERE MyDate = '2020-01-02';"
            ],
            "metadata": {
                "azdata_cell_guid": "0a731bd8-3188-4f08-8f7f-07768b7aa302",
                "language": "sql"
            },
            "outputs": [],
            "execution_count": null
        },
        {
            "cell_type": "markdown",
            "source": [
                "SQL Server does not store the date using any particular character-based format but rather as an integer representing the number of days between 1900-01-01 and the date specified. If the data type holds the time, the time is stored as the number of clock ticks past midnight. As long as you pass a date in an appropriate format based on the localization settings of the server where SQL Server is installed, the value will be recognized as a date, but as a best practice always use the 'YYYY-MM-DD' format."
            ],
            "metadata": {
                "azdata_cell_guid": "db777c85-56cc-423a-a104-7725f6902c8a"
            },
            "attachments": {}
        },
        {
            "cell_type": "markdown",
            "source": [
                "### Exercise 3-2\n",
                "\n",
                "Use the adventure works database for questions 1 through 2 and the wide world importers database for questions 3 through 4"
            ],
            "metadata": {
                "azdata_cell_guid": "46a9ba0f-e5c2-4b57-b0e8-3b9d376ec866"
            },
            "attachments": {}
        },
        {
            "cell_type": "markdown",
            "source": [
                "1\\. Write a query using a WHERE clause that displays all the employees listed in the HumanResources.Employee table who have the job title “Research and Development Engineer.” Display the BusinessEntityID, the login ID, and the job title for each one. And a query to show where not equal to Research and Development Engineer"
            ],
            "metadata": {
                "azdata_cell_guid": "970df170-d6c9-4600-ab25-7234d847a429"
            },
            "attachments": {}
        },
        {
            "cell_type": "code",
            "source": [
                "SELECT emp.BusinessEntityID, emp.LoginID, emp.JobTitle\r\n",
                "FROM HumanResources.Employee AS emp\r\n",
                "WHERE emp.JobTitle = 'Research and Development Engineer';\r\n",
                "\r\n",
                "SELECT emp.BusinessEntityID, emp.LoginID, emp.JobTitle\r\n",
                "FROM HumanResources.Employee AS emp\r\n",
                "WHERE emp.JobTitle <> 'Research and Development Engineer';"
            ],
            "metadata": {
                "azdata_cell_guid": "65006601-ff6a-43ba-b416-98b2a37424fe",
                "language": "sql",
                "tags": []
            },
            "outputs": [],
            "execution_count": null
        },
        {
            "cell_type": "markdown",
            "source": [
                "2\\. Write a query displaying all the columns of the Production. ProductCostHistory table from the rows in which the standard cost is between the values of $10 and $13."
            ],
            "metadata": {
                "azdata_cell_guid": "6af786e8-f2db-4b9c-80a1-9c8668569e66"
            },
            "attachments": {}
        },
        {
            "cell_type": "code",
            "source": [
                "SELECT *\r\n",
                "FROM Production.ProductCostHistory AS prod\r\n",
                "WHERE prod.StandardCost BETWEEN 10 AND 13"
            ],
            "metadata": {
                "azdata_cell_guid": "5cb87429-0784-4472-87bb-9b76f06d3ac6",
                "language": "sql"
            },
            "outputs": [],
            "execution_count": null
        },
        {
            "cell_type": "markdown",
            "source": [
                "3\\. Write a SELECT statement to return the CityName and LatestRecordedPopulation of the Application.Cities table. Limit (filter) the results to CityName equal to Simi Valley."
            ],
            "metadata": {
                "azdata_cell_guid": "d2b1c757-5d25-4cb2-bc53-3efa4985c618"
            },
            "attachments": {}
        },
        {
            "cell_type": "code",
            "source": [
                "SELECT ct.CityName, ct.LatestRecordedPopulation\r\n",
                "FROM Application.Cities AS ct\r\n",
                "WHERE ct.CityName='Simi Valley';"
            ],
            "metadata": {
                "azdata_cell_guid": "48927402-3ec2-4d14-8a6e-4b7972ec5dc9",
                "language": "sql"
            },
            "outputs": [],
            "execution_count": null
        },
        {
            "cell_type": "markdown",
            "source": [
                "4\\. Write a SELECT statement to return all the customers from the Sales. Customers table who signed up in 2016. Include the CustomerID, CustomerName, and AccountOpenedDate. Hint: Filter on the AccountOpenedDate (date only) and use the BETWEEN operator."
            ],
            "metadata": {
                "azdata_cell_guid": "7f71cb31-6245-4ed1-ac9f-ce212ba0e459"
            },
            "attachments": {}
        },
        {
            "cell_type": "code",
            "source": [
                "SELECT hn.CustomerID, hn.CustomerName, hn.AccountOpenedDate\r\n",
                "FROM Sales.Customers as hn \r\n",
                "WHERE hn.AccountOpenedDate BETWEEN '2016-01-01' AND '2016-12-31';"
            ],
            "metadata": {
                "azdata_cell_guid": "499cfdb7-4723-418a-ad7d-bbadd4b7b1da",
                "language": "sql",
                "tags": []
            },
            "outputs": [],
            "execution_count": null
        },
        {
            "cell_type": "markdown",
            "source": [
                "### Using WHERE Clauses with Two or more Predicates\n",
                "\n",
                "use AND and OR operators to do so  \n",
                "We typically do so when our conditions span multiple columns"
            ],
            "metadata": {
                "azdata_cell_guid": "2b2ca555-b880-4de3-94c3-850fdb056a07"
            },
            "attachments": {}
        },
        {
            "cell_type": "code",
            "source": [
                "SELECT BusinessEntityID, FirstName, MiddleName, LastName\r\n",
                "FROM Person.Person\r\n",
                "WHERE FirstName = 'Ken' AND LastName = 'Myer';\r\n",
                "\r\n",
                "-- or\r\n",
                "\r\n",
                "SELECT BusinessEntityID, FirstName, MiddleName, LastName\r\n",
                "FROM Person.Person\r\n",
                "WHERE LastName = 'Myer' OR LastName = 'Meyer';\r\n",
                "\r\n",
                "DROP TABLE IF EXISTS DateTimeExample;"
            ],
            "metadata": {
                "azdata_cell_guid": "4805b5b7-67b1-4098-a980-6b2124658b12",
                "language": "sql"
            },
            "outputs": [],
            "execution_count": null
        },
        {
            "cell_type": "code",
            "source": [
                "CREATE TABLE DateTimeExample(\r\n",
                " ID INT NOT NULL IDENTITY PRIMARY KEY,\r\n",
                " MyDate DATETIME2(0) NOT NULL,\r\n",
                " MyValue VARCHAR(25) NOT NULL\r\n",
                ");\r\n",
                "GO\r\n",
                "INSERT DateTimeExample (MyDate, MyValue)\r\n",
                "VALUES ('2020-01-01 10:30','Bike'),\r\n",
                " ('2020-01-01 11:30','Bike'),\r\n",
                " ('2020-01-02 13:00','Trike'),\r\n",
                " ('2020-01-03 13:10','Bell'),\r\n",
                " ('2020-01-03 17:35','Seat'),\r\n",
                " ('2020-01-04 00:00','Bike');\r\n",
                "--4\r\n",
                "SELECT ID, MyDate, MyValue\r\n",
                "FROM DateTimeExample\r\n",
                "WHERE MyDate >= '2020-01-03' AND MyDate < '2020-01-04'; \r\n",
                "\r\n",
                "-- the above query is the best way to filter on dates\r\n",
                "\r\n",
                "SELECT ID, MyDate, MyValue\r\n",
                "FROM DateTimeExample\r\n",
                "WHERE MyDate BETWEEN '2020-01-03 00:00:00' AND '2020-01-03 23:59:59';\r\n",
                "\r\n",
                "-- equivalent queries"
            ],
            "metadata": {
                "azdata_cell_guid": "2e8aa904-f1cf-41ef-a139-574651e0cdf7",
                "language": "sql"
            },
            "outputs": [],
            "execution_count": null
        },
        {
            "cell_type": "markdown",
            "source": [
                "### Using the IN Operator\n",
                "\n",
                "use when you have multiple values to compare\n",
                "\n",
                "<mark><mark><mark>Syntax</mark></mark></mark>\n",
                "\n",
                "> SELECT c1,c2\n",
                "> \n",
                "> FROM schema.table\n",
                "> \n",
                "> WHERE col IN (val1,val2)"
            ],
            "metadata": {
                "azdata_cell_guid": "58a01d2e-ce22-49d0-9047-3566a2bd76d8"
            },
            "attachments": {}
        },
        {
            "cell_type": "code",
            "source": [
                "SELECT BusinessEntityID, FirstName, MiddleName, LastName\r\n",
                "FROM Person.Person\r\n",
                "WHERE LastName = 'Myer' OR LastName = 'Meyer';\r\n",
                "\r\n",
                "-- we can write this query like this\r\n",
                "\r\n",
                "SELECT BusinessEntityID, FirstName, MiddleName, LastName\r\n",
                "FROM Person.Person\r\n",
                "WHERE LastName IN('Myer', 'Meyer');\r\n",
                "\r\n",
                "SELECT TerritoryID, Name\r\n",
                "FROM Sales.SalesTerritory\r\n",
                "WHERE TerritoryID IN (2,2,1,4,5);\r\n",
                ""
            ],
            "metadata": {
                "azdata_cell_guid": "898cd7a6-7737-476e-ac8b-4c6947447c5b",
                "language": "sql"
            },
            "outputs": [],
            "execution_count": null
        },
        {
            "cell_type": "markdown",
            "source": [
                "in the third query above as you can see 2 is given in the list of values twice this doesnt result in those rows being returned twice  \n",
                "  \n",
                "we can also use NOT operator with the IN operator to only return rows with values not specified in the list"
            ],
            "metadata": {
                "azdata_cell_guid": "277fbc8a-d268-492f-9fca-a54f800a683f"
            },
            "attachments": {}
        },
        {
            "cell_type": "markdown",
            "source": [
                "### Exercise 3.3"
            ],
            "metadata": {
                "azdata_cell_guid": "81dda268-ba50-432b-9f9e-8a34d16324a9"
            },
            "attachments": {}
        },
        {
            "cell_type": "markdown",
            "source": [
                "1\\. Write a query displaying the sales order ID, order date, and total due from the Sales.SalesOrderHeader table. Retrieve only those rows where the order was placed during the month of September 2012. use adventure works DB"
            ],
            "metadata": {
                "azdata_cell_guid": "43b3bb24-1f26-4d1b-8877-5d6e0219e11b"
            },
            "attachments": {}
        },
        {
            "cell_type": "code",
            "source": [
                "SELECT sh.SalesOrderID, sh.OrderDate, sh.TotalDue\r\n",
                "FROM Sales.SalesOrderHeader AS sh\r\n",
                "WHERE sh.OrderDate >='01-09-2012' AND sh.OrderDate < '01-10-2012'; "
            ],
            "metadata": {
                "azdata_cell_guid": "431da3ab-d62f-4feb-8838-b9f731876881",
                "language": "sql"
            },
            "outputs": [],
            "execution_count": null
        },
        {
            "cell_type": "markdown",
            "source": [
                "2\\. Write a query with the same columns as Question 1. Include rows where the Total Due is $10,000 or more or the SalesOrderID is less than 43000."
            ],
            "metadata": {
                "azdata_cell_guid": "50cafbba-dba5-47bc-9322-867982b2249b"
            },
            "attachments": {}
        },
        {
            "cell_type": "code",
            "source": [
                "SELECT sh.SalesOrderID, sh.OrderDate, sh.TotalDue\r\n",
                "FROM Sales.SalesOrderHeader AS sh\r\n",
                "WHERE sh.TotalDue >=10000 OR sh.SalesOrderID < 43000; "
            ],
            "metadata": {
                "azdata_cell_guid": "46c2e964-2e58-4b3c-a401-c16fd85af46b",
                "language": "sql"
            },
            "outputs": [],
            "execution_count": null
        },
        {
            "cell_type": "markdown",
            "source": [
                "3\\. Write a SELECT statement against the WideWorldImporters database; issue a query to the \\[Application\\].\\[StateProvinces\\] table including both 1 and 45 for StateProvinceID. Use the IN operator. OK to use \\* (star)."
            ],
            "metadata": {
                "azdata_cell_guid": "6134ae1a-e544-4183-839d-c2f0b41383fc"
            },
            "attachments": {}
        },
        {
            "cell_type": "code",
            "source": [
                "SELECT *\r\n",
                "FROM Application.StateProvinces AS sp\r\n",
                "WHERE sp.StateProvinceID IN (1,45);\r\n",
                "\r\n",
                "SELECT *\r\n",
                "FROM Application.StateProvinces AS sp\r\n",
                "WHERE sp.StateProvinceID =1 OR sp.StateProvinceID = 45;"
            ],
            "metadata": {
                "azdata_cell_guid": "d4a1302f-2c8a-4d96-aac4-8f49124cc957",
                "language": "sql"
            },
            "outputs": [],
            "execution_count": null
        },
        {
            "cell_type": "markdown",
            "source": [
                "### working with nulls\n",
                "\n",
                "- to filter for null we can write \n",
                "    - WHERE tbl.clm IS NULL\n",
                "    - we have to use IS because null is not a value and therefor can not be equal to anything\n",
                "- where comparing columns together or to a static values it resolves to true or flase and based on that values are returned, but if the column contains null it resolves to UKNOWN instead, and the values are not returned for that either.\n",
                "- its not so simple when using other operators beside \"=\". the opposite of false is true but the opposite of UNKNOWN is still UNKNOWN\n",
                "- be weary of always accounting for nulls especially when filtering using the NOT operator\n",
                "- when using \"\\<\" operator rows with NULL will be left out"
            ],
            "metadata": {
                "azdata_cell_guid": "74537998-d0d1-4965-9bb9-2ad65eeb06f6"
            },
            "attachments": {}
        },
        {
            "cell_type": "markdown",
            "source": [
                "1\\. Write a query displaying the ProductID, Name, and Color columns from rows in the Production.Product table. Display only those rows where no color has been assigned."
            ],
            "metadata": {
                "azdata_cell_guid": "370f62d3-69d2-4243-8b8d-588790c9bd2d"
            },
            "attachments": {}
        },
        {
            "cell_type": "code",
            "source": [
                "SELECT Color\r\n",
                "FROM Production.Product\r\n",
                "WHERE Color IS NULL"
            ],
            "metadata": {
                "azdata_cell_guid": "4528b099-656b-4208-8ba6-acee3475d4a0",
                "language": "sql",
                "tags": []
            },
            "outputs": [],
            "execution_count": null
        },
        {
            "cell_type": "markdown",
            "source": [
                "2\\. Write a query displaying the ProductID, Name, and Color columns from rows in the Production.Product table. Display only those rows in which the color is known not to be blue."
            ],
            "metadata": {
                "azdata_cell_guid": "166ae9ef-8b8d-4dfe-bf6c-a45f7ef81318"
            },
            "attachments": {}
        },
        {
            "cell_type": "code",
            "source": [
                "SELECT Color\r\n",
                "FROM Production.Product\r\n",
                "WHERE Color != 'Blue' AND Color IS NOT NULL;"
            ],
            "metadata": {
                "azdata_cell_guid": "487e2275-f2e7-4127-92af-2e0da68839e9",
                "language": "sql",
                "tags": []
            },
            "outputs": [],
            "execution_count": null
        },
        {
            "cell_type": "markdown",
            "source": [
                "3\\. Write a query displaying ProductID, Name, Style, Size, and Color from the Production.Product table. Include only the rows where at least one of the Size or Color columns contains a value."
            ],
            "metadata": {
                "azdata_cell_guid": "23bc2953-30fe-4218-a898-b0e2298a965d"
            },
            "attachments": {}
        },
        {
            "cell_type": "code",
            "source": [
                "SELECT Color, Size\r\n",
                "FROM Production.Product\r\n",
                "WHERE Size IS NOT NULL OR Color IS NOT NULL;"
            ],
            "metadata": {
                "azdata_cell_guid": "f30eeb78-4468-4a07-8984-1534e845c788",
                "language": "sql"
            },
            "outputs": [],
            "execution_count": null
        },
        {
            "cell_type": "markdown",
            "source": [
                "### Sorting using ORDER BY\n",
                "\n",
                "<mark><mark><mark>Syntax</mark></mark></mark>\n",
                "\n",
                "> SELECT col1, col2\n",
                "> \n",
                "> FROM schema.table\n",
                "> \n",
                "> WHERE col3=val\n",
                "> \n",
                "> ORDER BY col4 ASC/DESC, col5 ASC/DESC"
            ],
            "metadata": {
                "azdata_cell_guid": "4b6d1ec3-7997-409b-8bd4-3501a6760b80"
            },
            "attachments": {}
        },
        {
            "cell_type": "markdown",
            "source": [
                "When NULLs are part of the results, they will show up first when sorting in an ascending."
            ],
            "metadata": {
                "azdata_cell_guid": "88103314-6f3d-4faa-bbf6-c62ff6db4816"
            },
            "attachments": {}
        },
        {
            "cell_type": "code",
            "source": [
                "SELECT BusinessEntityID, LastName, FirstName, MiddleName\r\n",
                "FROM Person.Person\r\n",
                "ORDER BY LastName DESC, FirstName DESC, MiddleName DESC;\r\n",
                "\r\n",
                "SELECT BusinessEntityID, FirstName, MiddleName\r\n",
                "FROM Person.Person\r\n",
                "ORDER BY LastName DESC;"
            ],
            "metadata": {
                "azdata_cell_guid": "f6681596-b7e4-4cf6-a69f-5ce5a828e102",
                "language": "sql"
            },
            "outputs": [],
            "execution_count": null
        },
        {
            "cell_type": "markdown",
            "source": [
                "the column you are sorting on doesnt need to be part of the data that you are selecting"
            ],
            "metadata": {
                "azdata_cell_guid": "7379c5b6-08d9-4e84-aee9-50bca4d02993"
            },
            "attachments": {}
        },
        {
            "cell_type": "markdown",
            "source": [
                "### Performance using indexes\n",
                "\n",
                "- sql server if possible will return the required columns from the index instead of accessing the table\n",
                "- its pertinent to design the database intelligently and creating optimal indexes for queries\n",
                "- if we have an index on a column and the column is in the where clause of the query the DB engine will use the index\n",
                "- what happens when we query on a non indexed column the DB must check the value in each row of that column\n",
                "\n",
                "if we want to see if the DB engine uses any index for a query we can use execution plans by clicking explain in ADS"
            ],
            "metadata": {
                "azdata_cell_guid": "05bb2eda-697e-44e9-8134-e7466fc22352"
            },
            "attachments": {}
        },
        {
            "cell_type": "markdown",
            "source": [
                "### Built in functions and expressions\n",
                "\n",
                "- used to create expressions in TSQL we use functions and operators along with literal values and columns\n",
                "- we may want to create an expression for as simple a task as to only display the year part of the datetime column\n",
                "- or to do some calculations on columns like calculating discount based on the order amount and order cost\n",
                "- when ever we want to display filter or order data in a custom way we can use functions and expressions\n",
                "- we can use the expressions we create in the SELECT clauses"
            ],
            "metadata": {
                "azdata_cell_guid": "3a43ca54-6859-44b9-b3ea-7347c9d4534d"
            },
            "attachments": {}
        },
        {
            "cell_type": "markdown",
            "source": [
                "### concatinating string\n",
                "\n",
                "- use the + operators with strings int single quotes\n",
                "- we can concatenate literals or column values and give the concatenated column aliases\n",
                "- its pertinent to always alias expressions when selecting them"
            ],
            "metadata": {
                "azdata_cell_guid": "34cd4448-adaa-478d-a9fc-524288b0c8a1"
            },
            "attachments": {}
        },
        {
            "cell_type": "code",
            "source": [
                "SELECT BusinessEntityID, FirstName +' '+LastName AS FullName\r\n",
                "FROM Person.Person;\r\n",
                "\r\n",
                "SELECT 'ab'+'cd';"
            ],
            "metadata": {
                "azdata_cell_guid": "c5301941-26fd-4043-9c9a-b92f41fa5b24",
                "language": "sql"
            },
            "outputs": [],
            "execution_count": null
        },
        {
            "cell_type": "markdown",
            "source": [
                "### Concatinating Strings with NULL values  \n",
                "\n",
                "- if we concatenate a column with another column that has null values then we get null as the result in that row, execute the below query to see that in action"
            ],
            "metadata": {
                "azdata_cell_guid": "6f55d023-a58f-48c6-ae25-c0375eb3dfc1"
            },
            "attachments": {}
        },
        {
            "cell_type": "code",
            "source": [
                "SELECT BusinessEntityID, FirstName +' '+MiddleName AS FullName\r\n",
                "FROM Person.Person;"
            ],
            "metadata": {
                "azdata_cell_guid": "e282e3b1-ac50-487f-8bdd-af4d82ae2903",
                "language": "sql"
            },
            "outputs": [],
            "execution_count": null
        },
        {
            "cell_type": "markdown",
            "source": [
                "- we can concat the strings columns and literals using the CONCAT built in function\n",
                "- the CONCAT function can take any number of values and the output is implicitly converted to string\n",
                "- we can also use variables with the concact function\n",
                "- CONCAT can handle the nulls in the columns we are trying to concat and appends and empty string instead \"\""
            ],
            "metadata": {
                "azdata_cell_guid": "835453be-0433-4986-8cfd-280b6dbbf73d"
            },
            "attachments": {}
        },
        {
            "cell_type": "code",
            "source": [
                "SELECT CONCAT('I','love','t-sql');\r\n",
                "\r\n",
                "DECLARE @a VARCHAR(30) ='My birthday is on ';\r\n",
                "DECLARE @b DATE = '1980/08/25';\r\n",
                "SELECT CONCAT(@a,@b) AS result;\r\n",
                "\r\n",
                "SELECT CONCAT(FirstName,MiddleName) as fullname\r\n",
                "FROM Person.Person;"
            ],
            "metadata": {
                "azdata_cell_guid": "f2af0278-f29a-4558-b74c-f0a3c348ac75",
                "language": "sql"
            },
            "outputs": [],
            "execution_count": null
        },
        {
            "cell_type": "markdown",
            "source": [
                "### Functions to handle NULL\n",
                "\n",
                "- ISNULL\n",
                "    - expects two parameters the value to check and the replacement for NULL\n",
                "- COALESCE\n",
                "    - takes in any number of inputs and returns the first non-null value\n",
                "- its preferable to use COALESCE"
            ],
            "metadata": {
                "azdata_cell_guid": "8e6e5c84-41e1-4f83-9aac-56e67fc90d51"
            },
            "attachments": {}
        },
        {
            "cell_type": "code",
            "source": [
                "SELECT FirstName +' '+ ISNULL(MiddleName,'')+' '+LastName AS FullName\r\n",
                "FROM person.Person;"
            ],
            "metadata": {
                "azdata_cell_guid": "2218f6e8-1bc4-4250-bc68-b6bebd5bcf81",
                "language": "sql"
            },
            "outputs": [],
            "execution_count": null
        },
        {
            "cell_type": "markdown",
            "source": [
                "this query is a step in the right direction but you can see when there is middle name missing we end up with two spaces between firstname and the last name, we can handle that with the following query\n",
                "\n",
                "remember anything + NULL is NULL in T-SQL"
            ],
            "metadata": {
                "azdata_cell_guid": "59101ea4-7bb0-47c3-8623-0887e02d7be6"
            },
            "attachments": {}
        },
        {
            "cell_type": "code",
            "source": [
                "SELECT FirstName +ISNULL(' '+MiddleName,'')+' '+LastName AS FullName\r\n",
                "FROM Person.Person;\r\n",
                "\r\n",
                "-- or with coalesce\r\n",
                "\r\n",
                "SELECT FirstName +coalesce(' '+MiddleName,'')+' '+LastName AS FullName\r\n",
                "FROM Person.Person;"
            ],
            "metadata": {
                "azdata_cell_guid": "93f797ef-d92e-4fa3-99f4-6b3e5abb2635",
                "language": "sql"
            },
            "outputs": [],
            "execution_count": null
        },
        {
            "cell_type": "markdown",
            "source": [
                "- if we concat a 1 and '1' we get 2 not 11 because if the string can be converted implicity to number it will be \n",
                "    \n",
                "- to get 11 we must explicitly convert the number 1 to a string \n",
                "    \n",
                "    - this can be done using the CAST or CONVERT method\n",
                "    - CAST syntax\n",
                "        - CAST (\\<Value\\> AS \\<new data type\\>)\n",
                "    - CONVERT syntax\n",
                "        - CONVERT(\\<new data type\\>,\\<vaule\\>)\n",
                "- if we try to concat a non numeric string and a number SQL server will throw an error because integers have higher precedence"
            ],
            "metadata": {
                "azdata_cell_guid": "bcffbb11-04ac-4ecf-84fe-61bfc4ecf3cf"
            },
            "attachments": {}
        },
        {
            "cell_type": "code",
            "source": [
                "SELECT 1+'1';\r\n",
                "SELECT 1+'a';"
            ],
            "metadata": {
                "azdata_cell_guid": "e39358e7-fca2-4d29-89a0-d97bb9ebbb29",
                "language": "sql"
            },
            "outputs": [],
            "execution_count": null
        },
        {
            "cell_type": "markdown",
            "source": [
                "- insteda of using the CAST or CONVERT function to convert string to numbe ruse the concat function instead because all these cases are handled in that function"
            ],
            "metadata": {
                "azdata_cell_guid": "4622d91e-2035-4771-ba05-ec52b7836848"
            },
            "attachments": {}
        },
        {
            "cell_type": "code",
            "source": [
                "SELECT CONCAT(1,'1');\r\n",
                "SELECT CONCAT(1,'A');"
            ],
            "metadata": {
                "azdata_cell_guid": "4f4d6668-0a01-4863-b6a1-501fa0dcc368",
                "language": "sql"
            },
            "outputs": [],
            "execution_count": null
        },
        {
            "cell_type": "code",
            "source": [
                "-- QUERIES TO SHOW THE USE OF CAST AND CONVERT\r\n",
                "\r\n",
                "SELECT CONCAT(CAST(BusinessEntityID AS NVARCHAR),':',LastName,FirstName) AS NAMEID\r\n",
                "FROM Person.Person;\r\n",
                "\r\n",
                "SELECT CONCAT(CONVERT(NVARCHAR,BusinessEntityID),':',LastName,FirstName) AS NAMEID\r\n",
                "FROM Person.Person;"
            ],
            "metadata": {
                "azdata_cell_guid": "2ffee4e2-dcb8-48dd-82f5-3e72b5a621b4",
                "language": "sql",
                "tags": []
            },
            "outputs": [],
            "execution_count": null
        },
        {
            "cell_type": "code",
            "source": [
                "SELECT BusinessEntityID, BusinessEntityID+'1' AS \"Adds 1\", CAST(BusinessEntityID AS NVARCHAR) + '1' AS \"Appends 1\"\r\n",
                "FROM    Person.Person"
            ],
            "metadata": {
                "azdata_cell_guid": "760414e3-2ac5-46b3-a3fb-201002029ea9",
                "language": "sql",
                "tags": []
            },
            "outputs": [],
            "execution_count": null
        },
        {
            "cell_type": "markdown",
            "source": [
                "It is preferable to use CAST over CONVERT  \n",
                "<span style=\"color: var(--vscode-foreground);\">whenever we specify NVARCHAR without specifying the lenght the default maximum length is used which is 30 characters,<br>if we want a length greater than 30 we must specify it<br>its beset practice to always specify the length because it defaults to 1 when declaring a variable</span>"
            ],
            "metadata": {
                "azdata_cell_guid": "3ed1ee8c-fd4d-467c-b60b-16f827d70bd8"
            },
            "attachments": {}
        },
        {
            "cell_type": "markdown",
            "source": [
                "### Exercise 4.1  \n",
                "Use the AdventureWorks2019 database to complete Questions 1–4. Complete the rest of the questions using the WideWorldImporters database."
            ],
            "metadata": {
                "azdata_cell_guid": "f61f707f-74c8-43ae-b98e-dfe929cc7ba1"
            },
            "attachments": {}
        },
        {
            "cell_type": "markdown",
            "source": [
                "1\\. Write a query that returns data from the Person.Address table in this format AddressLine1 (City PostalCode) from the Person.Address table."
            ],
            "metadata": {
                "azdata_cell_guid": "ccb2844c-f7bb-46a5-872e-f10d28c94939"
            },
            "attachments": {}
        },
        {
            "cell_type": "code",
            "source": [
                "SELECT CONCAT(City,' ',PostalCode) AS ADDRESSLINE1\r\n",
                "FROM Person.Address"
            ],
            "metadata": {
                "azdata_cell_guid": "2456a172-8860-4228-9767-e85722febf84",
                "language": "sql"
            },
            "outputs": [],
            "execution_count": null
        },
        {
            "cell_type": "markdown",
            "source": [
                "2\\. Write a query using the Production.Product table displaying the product ID, color, and name columns. If the color column contains a NULL, replace the color with No Color."
            ],
            "metadata": {
                "azdata_cell_guid": "d0ad173c-f0ea-4e32-b186-d8f0e84be6c6"
            },
            "attachments": {}
        },
        {
            "cell_type": "code",
            "source": [
                "SELECT PROD.ProductID, COALESCE(PROD.Color,'NO COLOR'), PROD.Name\r\n",
                "FROM Production.Product AS PROD;"
            ],
            "metadata": {
                "azdata_cell_guid": "7782eec3-79d8-41e1-9225-9afa042168c2",
                "language": "sql"
            },
            "outputs": [],
            "execution_count": null
        },
        {
            "cell_type": "markdown",
            "source": [
                "3\\. Modify the query written in Question 2 so that the description of the product is returned formatted as Name: Color. Make sure that all rows display a value even if the Color value is missing."
            ],
            "metadata": {
                "azdata_cell_guid": "05f45511-1b91-42fe-89cb-8a08c5f1bd77"
            },
            "attachments": {}
        },
        {
            "cell_type": "code",
            "source": [
                "SELECT PROD.ProductID,CONCAT(PROD.Name,': ', COALESCE(PROD.Color,'NO COLOR')) AS DESCRIPTION\r\n",
                "FROM Production.Product AS PROD;"
            ],
            "metadata": {
                "azdata_cell_guid": "03157ac3-ac57-4ad4-8d25-6fe40e27c8a4",
                "language": "sql"
            },
            "outputs": [],
            "execution_count": null
        },
        {
            "cell_type": "markdown",
            "source": [
                "4\\. Write a query using the Production.Product table displaying a description with the ProductID: Name format. Hint: You will need to use a function to write this query."
            ],
            "metadata": {
                "azdata_cell_guid": "b29a7cf6-be39-4a04-960c-663170e9b810"
            },
            "attachments": {}
        },
        {
            "cell_type": "code",
            "source": [
                "SELECT CONCAT(PROD.ProductID,':',' '+PROD.Name,':',' '+ COALESCE(PROD.Color,'NO COLOR')) AS DESCRIPTION\r\n",
                "FROM Production.Product AS PROD;"
            ],
            "metadata": {
                "azdata_cell_guid": "b8cac4d3-9a52-427a-a2ec-48ef34cd214e",
                "language": "sql",
                "tags": []
            },
            "outputs": [],
            "execution_count": null
        },
        {
            "cell_type": "markdown",
            "source": [
                "5\\. Switch to WideWorldImporters. Write a query against the Application.People table using only FullName and SearchName. Format the output like this: FullName (SearchName)"
            ],
            "metadata": {
                "azdata_cell_guid": "8fca4e42-bf8b-4486-a381-a07d07964fec"
            },
            "attachments": {}
        },
        {
            "cell_type": "code",
            "source": [
                "SELECT CONCAT(FullName,'(',SearchName,')')\r\n",
                "FROM Application.People;"
            ],
            "metadata": {
                "azdata_cell_guid": "ed2cb3c2-34b5-4ee5-abfe-5e2a14fba2df",
                "language": "sql"
            },
            "outputs": [],
            "execution_count": null
        },
        {
            "cell_type": "markdown",
            "source": [
                "6\\. Write a query using the Application.Cities table, returning only CityName, LatestRecordedPopulation. Use COALESCE or ISNULL to return 0 for those cities not reporting a LatestRecordedPopulation."
            ],
            "metadata": {
                "azdata_cell_guid": "fb197a59-1aec-4201-8116-c64aaa5133d3"
            },
            "attachments": {}
        },
        {
            "cell_type": "code",
            "source": [
                "SELECT CityName,COALESCE(LatestRecordedPopulation,'N/A')\r\n",
                "FROM Application.Cities;\r\n",
                "--THIS THROWS AN ERROR\r\n",
                "\r\n",
                "SELECT CityName,COALESCE(LatestRecordedPopulation,CAST('0' AS INT))\r\n",
                "FROM Application.Cities;"
            ],
            "metadata": {
                "azdata_cell_guid": "54cb01dc-6d05-4454-b113-51b6d558edcb",
                "language": "sql"
            },
            "outputs": [],
            "execution_count": null
        },
        {
            "cell_type": "markdown",
            "source": [
                "Inbuilt functions\n",
                "\n",
                "1. CONCAT\n",
                "2. CAST\n",
                "3. COALESCE\n",
                "\n",
                "Variable declaration synax\n",
                "\n",
                "> <span style=\"color: #c678dd;\">DECLARE</span> @a <span style=\"color: #c678dd;\">VARCHAR</span>(<span style=\"color: #d19a66;\">30</span>) =<span style=\"color: #98c379;\">'My birthday is on '</span>;\n",
                "> \n",
                "> <span style=\"color: #c678dd;\">DECLARE</span> @b <span style=\"color: #c678dd;\">DATE</span> = <span style=\"color: #98c379;\">'1980/08/25'</span>;"
            ],
            "metadata": {
                "azdata_cell_guid": "20608f56-0e99-4f40-be4c-3382cd66b209"
            },
            "attachments": {}
        },
        {
            "cell_type": "markdown",
            "source": [
                "### mathematical operators\n",
                "\n",
                "2. \\-\n",
                "3. \\*\n",
                "4. /\n",
                "5. %\n",
                "\n",
                "to get decimal division the values used in the expression need to be decimal other wise we get integer division, either the divident or the divison"
            ],
            "metadata": {
                "azdata_cell_guid": "30f6cf17-7e68-49c9-a090-6dab8bc6afb1"
            },
            "attachments": {}
        },
        {
            "cell_type": "code",
            "source": [
                "SELECT 1 + 1 AS ADDITION, 10.0 / 3 AS DIVISION, 10 / 3 AS [Integer Division], 10/3.0 AS [Decimal Division], 10 % 3 AS MODULO;"
            ],
            "metadata": {
                "azdata_cell_guid": "6a00c181-66fd-4fd7-bb01-041d124f7f4c",
                "language": "sql"
            },
            "outputs": [],
            "execution_count": null
        },
        {
            "cell_type": "markdown",
            "source": [
                "we can do complex calculations on columns here as well for things like calculation of discounts"
            ],
            "metadata": {
                "azdata_cell_guid": "b3fed9fc-cdae-4b98-8ca8-62a81b5f69dc"
            },
            "attachments": {}
        },
        {
            "cell_type": "code",
            "source": [
                "SELECT SpecialOfferID,MaxQty,DiscountPct, DiscountPct * COALESCE(MaxQty, 1000) AS MaxDiscount\r\n",
                "FROM Sales.SpecialOffer;"
            ],
            "metadata": {
                "azdata_cell_guid": "3350f75e-b0d2-41a4-b1e8-bf0906d5dc8a",
                "language": "sql"
            },
            "outputs": [],
            "execution_count": null
        },
        {
            "cell_type": "markdown",
            "source": [
                "QUESTION\n",
                "\n",
                "Switch to the WideWorldImporters database. Write a query against the Sales. OrderLines table. Include the StockItemID. Calculate the extended price (Quantity times UnitPrice). Calculate the tax (extended price times 0.15). Calculate the extended amount (extended price plus tax)."
            ],
            "metadata": {
                "azdata_cell_guid": "c33d4fcb-3072-4eca-bc2c-ccd786d6e69f"
            },
            "attachments": {}
        },
        {
            "cell_type": "code",
            "source": [
                "SELECT StockItemID, Quantity*UnitPrice AS [Extended price], \r\n",
                "(Quantity*UnitPrice) *0.15 AS Tax, \r\n",
                "(Quantity*UnitPrice)+(Quantity*UnitPrice)*0.15 as [Extended amount]\r\n",
                "FROM Sales.OrderLines;"
            ],
            "metadata": {
                "azdata_cell_guid": "cbb7d930-7b7a-4400-bdf3-ff59b5b35cc9",
                "language": "sql"
            },
            "outputs": [],
            "execution_count": null
        },
        {
            "cell_type": "markdown",
            "source": [
                "the above repeated code can be solved by common table expressions or CTE for short, which will be covered later on but this is how they look"
            ],
            "metadata": {
                "azdata_cell_guid": "8c5b3c92-db14-4c66-8b5b-8b7e59ad9d4b"
            },
            "attachments": {}
        },
        {
            "cell_type": "code",
            "source": [
                "WITH ExtendedPriceCTE AS (\r\n",
                "    SELECT\r\n",
                "        StockItemID,\r\n",
                "        Quantity * UnitPrice AS [Extended price],\r\n",
                "        Quantity * UnitPrice * 0.15 AS Tax\r\n",
                "    FROM\r\n",
                "        Sales.OrderLines\r\n",
                ")\r\n",
                "\r\n",
                "SELECT\r\n",
                "    StockItemID,\r\n",
                "    [Extended price],\r\n",
                "    Tax,\r\n",
                "    [Extended price] + Tax AS [Extended amount]\r\n",
                "FROM\r\n",
                "    ExtendedPriceCTE;"
            ],
            "metadata": {
                "azdata_cell_guid": "65267d14-695b-4aaf-bb3a-b8029045fedc",
                "language": "sql"
            },
            "outputs": [],
            "execution_count": null
        },
        {
            "cell_type": "markdown",
            "source": [
                "When performing an operation that involves two different data types, the expression will return values for the data type with the highest precedence if possible.  \n",
                "if a value can be a valid INT, it is also a valid BIGINT. However, many valid BIGINT values are too big to be converted to INT an operation on these two data types will return a BIGINT"
            ],
            "metadata": {
                "azdata_cell_guid": "7e89ee6b-566d-412b-9af4-1e3b92f151f7"
            },
            "attachments": {}
        },
        {
            "cell_type": "markdown",
            "source": [
                "SQL Server uses the following precedence order for data types:\n",
                "\n",
                "1. user-defined data types (highest)\n",
                "2. sql\\_variant\n",
                "3. xml\n",
                "4. datetimeoffset\n",
                "5. datetime2\n",
                "6. datetime\n",
                "7. smalldatetime\n",
                "8. date\n",
                "9. time\n",
                "10. float\n",
                "11. real\n",
                "12. decimal\n",
                "13. money\n",
                "14. smallmoney\n",
                "15. bigint\n",
                "16. int\n",
                "17. smallint\n",
                "18. tinyint\n",
                "19. bit\n",
                "20. ntext\n",
                "21. text\n",
                "22. image\n",
                "23. timestamp\n",
                "24. uniqueidentifier\n",
                "25. nvarchar (including nvarchar(max) )\n",
                "26. nchar\n",
                "27. varchar (including varchar(max) )\n",
                "28. char\n",
                "29. varbinary (including varbinary(max) )\n",
                "30. binary (lowest)"
            ],
            "metadata": {
                "azdata_cell_guid": "18dd9c21-ec4f-4cb4-8cb6-6695003cc0d7"
            },
            "attachments": {}
        },
        {
            "cell_type": "markdown",
            "source": [
                "### String functions\n",
                "\n",
                "remember if the string manipulation is complex it maybe a good idea to do the string manipulation on the server side or the client side but not at the DB level, bu alot of manipulations are possible here using T-SQL"
            ],
            "metadata": {
                "azdata_cell_guid": "e11b374c-425b-474b-a1b9-829cc75b79ba"
            },
            "attachments": {}
        },
        {
            "cell_type": "markdown",
            "source": [
                "### RTRIM, LTRIM and TRIM functions\n",
                "\n",
                "To trim from the right side, left side or both\n",
                "\n",
                "Syntax  \n",
                "\n",
                "> RTRIM(\\<string\\>)\n",
                "> \n",
                "> LTRIM(<span style=\"color: var(--vscode-foreground);\">&lt;string&gt;</span><span style=\"color: var(--vscode-foreground);\">)<br></span>\n",
                "> \n",
                "> <span style=\"color: var(--vscode-foreground);\">TRIM(</span><span style=\"color: var(--vscode-foreground);\">&lt;string&gt;</span><span style=\"color: var(--vscode-foreground);\">)</span>"
            ],
            "metadata": {
                "azdata_cell_guid": "efc39379-3c93-4f90-9f53-d6efbaed51ac"
            },
            "attachments": {}
        },
        {
            "cell_type": "code",
            "source": [
                "CREATE TABLE TRIMEXAMPLE (COL1 VARCHAR(10));\r\n",
                "GO\r\n",
                "INSERT INTO TRIMEXAMPLE (COL1) VALUES ('A'),('B '),(' C'),(' D ');\r\n",
                "SELECT COL1, '*'+RTRIM(COL1)+'*' AS [RTRIM],\r\n",
                "'*'+LTRIM(COL1)+'*' AS[LTRIM],\r\n",
                "'*'+TRIM(COL1)+'*' AS[TRIM]\r\n",
                "FROM TRIMEXAMPLE;\r\n",
                "GO\r\n",
                "DROP TABLE TRIMEXAMPLE;"
            ],
            "metadata": {
                "azdata_cell_guid": "399b8aff-379e-4a1f-b1f4-cb740f3e9278",
                "language": "sql"
            },
            "outputs": [],
            "execution_count": null
        },
        {
            "cell_type": "markdown",
            "source": [
                "### LEFT and RIGHT functions\n",
                "\n",
                "left takes two parameters a string and an int and gives a substring of length n(AS MANY AS POSSIBLE) from the left\n",
                "\n",
                "> LEFT(\\<STRING\\>,\\<INT\\>)\n",
                "\n",
                "right takes two parameters a string and an int and gives a REVERSE substring FROM THE END of length n<span style=\"color: var(--vscode-foreground);\">(AS MANY AS POSSIBLE)</span>   <span style=\"color: var(--vscode-foreground);\">&nbsp;from the right</span>\n",
                "\n",
                "> RIGHT(\\<STRING\\>,\\<INT\\>)"
            ],
            "metadata": {
                "azdata_cell_guid": "fd7f6c15-7bf8-4415-b27a-b2b0009c91eb"
            },
            "attachments": {}
        },
        {
            "cell_type": "code",
            "source": [
                "SELECT LastName, LEFT(LastName,5) AS [LEFT],RIGHT(LastName,5) AS [RIGHT]\r\n",
                "FROM Person.Person\r\n",
                "WHERE BusinessEntityID IN (293,295,211,297,299,3057,15027);"
            ],
            "metadata": {
                "azdata_cell_guid": "a5711315-a683-4d77-8c77-009c83e0de21",
                "language": "sql"
            },
            "outputs": [],
            "execution_count": null
        },
        {
            "cell_type": "markdown",
            "source": [
                "### LEN and DATALENGTH\n",
                "\n",
                "LEN returns the number of characters in a string\n",
                "\n",
                "> LEN(\\<STRING\\>)\n",
                "\n",
                "DATALENGTH returns the number of bytes in any data type or expression\n",
                "\n",
                "> DATALENGTH(\\<ANY EXPRESSION\\>)\n",
                "\n",
                "both return the same thing if the string is a char or varchar which takes one byte per character\n",
                "\n",
                "both return diff when string is NCHAR or NVARCHAR which takes upto two bytes per character, so DATALENGTH is 2\\* LEN"
            ],
            "metadata": {
                "azdata_cell_guid": "cc323f2b-d643-4502-a7c1-6d4319d31e90"
            },
            "attachments": {}
        },
        {
            "cell_type": "code",
            "source": [
                "SELECT LastName,LEN(LastName) AS \"Length\",\r\n",
                " DATALENGTH(LastName) AS \"Internal Data Length\"\r\n",
                "FROM Person.Person"
            ],
            "metadata": {
                "azdata_cell_guid": "cd9d81e6-d423-4b5e-bb4d-418da8601961",
                "language": "sql"
            },
            "outputs": [],
            "execution_count": null
        },
        {
            "cell_type": "markdown",
            "source": [
                "### CHARINDEX\n",
                "\n",
                "to get the index of a serach string inside another\n",
                "\n",
                "- <span style=\"color: var(--vscode-foreground);\">if the value returned is less than zero then it doesnt exist inside the string</span>\n",
                "- <span style=\"color: var(--vscode-foreground);\">returns the answer as 1 based indexing&nbsp;</span>  <span style=\"color: var(--vscode-foreground);\">it includes the optional start index in the search, that is, if the search string starts at the start index it will return the start index&nbsp;</span>  \n",
                "- <span style=\"color: var(--vscode-foreground);\">its not case sensitive by default&nbsp;</span>  \n",
                "- <span style=\"color: var(--vscode-foreground);\">to make it case sensitive we have to use the COLLATE clause in the char index</span>\n",
                "\n",
                "> <span style=\"background-color: rgba(127, 127, 127, 0.1);\">CHARINDEX(&lt;SEARCH STRING&gt;, &lt;TARGET STRING&gt;,[&lt;OPTIONAL START INDEX&gt;])</span>\n",
                "> \n",
                "> <span style=\"color: rgb(255, 255, 255); font-family: &quot;Söhne Mono&quot;, Monaco, &quot;Andale Mono&quot;, &quot;Ubuntu Mono&quot;, monospace; white-space: pre; background-color: rgb(6, 6, 6);\">CHARINDEX(</span><span style=\"font-family: &quot;Söhne Mono&quot;, Monaco, &quot;Andale Mono&quot;, &quot;Ubuntu Mono&quot;, monospace; white-space: pre; background-color: rgb(6, 6, 6);\"><font color=\"#ff64c4\">&lt;search string&gt; </font></span> <span class=\"hljs-keyword\" style=\"border: 0px solid rgb(88, 95, 98); box-sizing: border-box; --tw-border-spacing-x: 0; --tw-border-spacing-y: 0; --tw-translate-x: 0; --tw-translate-y: 0; --tw-rotate: 0; --tw-skew-x: 0; --tw-skew-y: 0; --tw-scale-x: 1; --tw-scale-y: 1; --tw-pan-x: ; --tw-pan-y: ; --tw-pinch-zoom: ; --tw-scroll-snap-strictness: proximity; --tw-gradient-from-position: ; --tw-gradient-via-position: ; --tw-gradient-to-position: ; --tw-ordinal: ; --tw-slashed-zero: ; --tw-numeric-figure: ; --tw-numeric-spacing: ; --tw-numeric-fraction: ; --tw-ring-inset: ; --tw-ring-offset-width: 0px; --tw-ring-offset-color: #fff; --tw-ring-color: rgba(69,89,164,.5); --tw-ring-offset-shadow: 0 0 transparent; --tw-ring-shadow: 0 0 transparent; --tw-shadow: 0 0 transparent; --tw-shadow-colored: 0 0 transparent; --tw-blur: ; --tw-brightness: ; --tw-contrast: ; --tw-grayscale: ; --tw-hue-rotate: ; --tw-invert: ; --tw-saturate: ; --tw-sepia: ; --tw-drop-shadow: ; --tw-backdrop-blur: ; --tw-backdrop-brightness: ; --tw-backdrop-contrast: ; --tw-backdrop-grayscale: ; --tw-backdrop-hue-rotate: ; --tw-backdrop-invert: ; --tw-backdrop-opacity: ; --tw-backdrop-saturate: ; --tw-backdrop-sepia: ; --darkreader-bg--tw-ring-offset-width: 0px; --darkreader-bg--tw-ring-offset-color: #292b2d; --darkreader-bg--tw-ring-color: rgba(85, 108, 193, 0.5); --darkreader-bg--tw-ring-offset-shadow: 0 0 transparent; --darkreader-bg--tw-ring-shadow: 0 0 transparent; --darkreader-bg--tw-shadow: 0 0 transparent; color: rgb(102, 233, 255); font-family: &quot;Söhne Mono&quot;, Monaco, &quot;Andale Mono&quot;, &quot;Ubuntu Mono&quot;, monospace; white-space: pre; background-color: rgb(6, 6, 6);\">COLLATE</span> <span style=\"color: rgb(255, 255, 255); font-family: &quot;Söhne Mono&quot;, Monaco, &quot;Andale Mono&quot;, &quot;Ubuntu Mono&quot;, monospace; white-space: pre; background-color: rgb(6, 6, 6);\">Latin1_General_CS_AS, </span> <span style=\"font-family: &quot;Söhne Mono&quot;, Monaco, &quot;Andale Mono&quot;, &quot;Ubuntu Mono&quot;, monospace; white-space: pre; background-color: rgb(6, 6, 6);\"><font color=\"#ff64c4\">&lt;target string&gt;</font></span><span style=\"color: rgb(255, 255, 255); font-family: &quot;Söhne Mono&quot;, Monaco, &quot;Andale Mono&quot;, &quot;Ubuntu Mono&quot;, monospace; white-space: pre; background-color: rgb(6, 6, 6);\">)</span><span style=\"background-color: rgba(127, 127, 127, 0.1);\"><br></span>"
            ],
            "metadata": {
                "azdata_cell_guid": "5a9480dd-f1a1-412b-aba4-2250b73b24f0"
            },
            "attachments": {}
        },
        {
            "cell_type": "code",
            "source": [
                "SELECT lastname,\r\n",
                "    CHARINDEX('nc',LastName) AS [SIMPLE SERACHING],\r\n",
                "    CHARINDEX('nc',LastName,3) AS [SEARCHING FROM WHERE THE STRING STARTS],\r\n",
                "    CHARINDEX('nc',LastName,4) AS [SEARCHING FROM BEYOND WHERE THE STRING STARTS],\r\n",
                "    CHARINDEX('NC' COLLATE Latin1_General_CS_AS,LastName) [CASE SENSITIVE SIMPLE SEARCHING],\r\n",
                "    CHARINDEX('NC' COLLATE Latin1_General_CS_AS,'ANCA',3) [CASE SENSITIVE SIMPLE SEARCHING FROM BEYOND]\r\n",
                "FROM Person.Person WHERE Person.BusinessEntityID =1"
            ],
            "metadata": {
                "azdata_cell_guid": "9a7d4db3-8c8e-405c-a85f-f492d623804b",
                "language": "sql"
            },
            "outputs": [],
            "execution_count": null
        },
        {
            "cell_type": "markdown",
            "source": [
                "### SUBSTRING\n",
                "\n",
                "- The length parameter can be more than the length of the string it will give substring as from the starting point to the end\n",
                "- inclusive of the start index\n",
                "- the length parameter is compulsary\n",
                "- if the starting point is beyong the length of the string returns empty\n",
                "\n",
                "> SUBSTRING(\\<STRING\\>,\\<START INDEX\\>, \\<LENGTH\\>)"
            ],
            "metadata": {
                "azdata_cell_guid": "d714c3a8-03e3-4711-beb7-bb526ff961cc"
            },
            "attachments": {}
        },
        {
            "cell_type": "code",
            "source": [
                "SELECT SUBSTRING('ABC',1,3),SUBSTRING('ABC',0,1),SUBSTRING('ABC',0,4),SUBSTRING('ABC',1,4);"
            ],
            "metadata": {
                "azdata_cell_guid": "b925d1d7-ff75-4094-b047-6c423e58582f",
                "language": "sql"
            },
            "outputs": [],
            "execution_count": null
        },
        {
            "cell_type": "markdown",
            "source": [
                "### CHOOSE\n",
                "\n",
                "- expects an index and a list of values and selects the value at the index with 1 based indexing\n",
                "- the results take the highest data type precedence. This means if there is an integer in the list, the CHOOSE function will try to convert any results to an integer. If the value is a string, the CHOOSE command will throw an error.\n",
                "- we will need to convert all values to VARCHAR to avoid this issue\n",
                "- If the position doesn’t exist, a NULL value will be returned.\n",
                "\n",
                "> CHOOSE(index, val1, val2, val3\\[, val4\\]);"
            ],
            "metadata": {
                "azdata_cell_guid": "ee9d5340-d274-4551-a42b-9c4135e434c0"
            },
            "attachments": {}
        },
        {
            "cell_type": "code",
            "source": [
                "SELECT CHOOSE (4,'A','B','C','D','E','F');"
            ],
            "metadata": {
                "azdata_cell_guid": "35df3c82-b101-4b5b-a46e-7dd661f3d6eb",
                "language": "sql"
            },
            "outputs": [],
            "execution_count": null
        },
        {
            "cell_type": "markdown",
            "source": [
                "REVERSE\n",
                "\n",
                "- reverses a string\n",
                "\n",
                "> REVERSE('STRING');\n",
                "\n",
                "- a use case is to get the file name from a file path \n",
                "    - reverse the string\n",
                "    - get the index of the first backslash with charindex\n",
                "    - and get the file name from the original string with right function using the index we just got"
            ],
            "metadata": {
                "azdata_cell_guid": "3a484e17-c18c-40d6-a91b-830db94bfbcc"
            },
            "attachments": {}
        },
        {
            "cell_type": "code",
            "source": [
                "SELECT RIGHT('HI/BYE/BYE.YML',CHARINDEX('/',REVERSE('HI/BYE/BYE.YML'))-1) as filenamefromright,\r\n",
                "    SUBSTRING('HI/BYE/BYE.YML',CHARINDEX('/',REVERSE('HI/BYE/BYE.YML')),50) as filenamefromsubstring;"
            ],
            "metadata": {
                "azdata_cell_guid": "0a7ca5e1-a995-474a-ac40-ab80a6e451cb",
                "language": "sql"
            },
            "outputs": [],
            "execution_count": null
        },
        {
            "cell_type": "markdown",
            "source": [
                "UPPER and LOWER\n",
                "\n",
                "> UPPER('STRING')\n",
                "> \n",
                "> LOWER('STRING')\n",
                "> \n",
                "> LOWER(\\<COLUMN NAME\\>)"
            ],
            "metadata": {
                "azdata_cell_guid": "bf943256-f193-45f7-b15e-1cb408919fed"
            },
            "attachments": {}
        },
        {
            "cell_type": "markdown",
            "source": [
                "REPLACE\n",
                "\n",
                "- To replace one string value inside another\n",
                "- replaces every occurance of the string to be replaced\n",
                "- has three parameters\n",
                "    - the original string\n",
                "    - the part of the string to replace, nothing happens if the part of the string doesnt actually exist in the string\n",
                "    - and the replacement\n",
                "\n",
                "> REPLACE(\\<STRING VALUE\\>,\\<STRING TO REPLACE\\>,\\<REPLACEMENT\\>)"
            ],
            "metadata": {
                "azdata_cell_guid": "642f4938-6de7-4526-9144-fb6e8a3bd6ed"
            },
            "attachments": {}
        },
        {
            "cell_type": "code",
            "source": [
                "SELECT LastName,REPLACE(LastName,'X','Z') AS REPLACEaWITHz,\r\n",
                "    REPLACE(LastName,'AB','') AS [REMOVE]\r\n",
                "FROM Person.Person\r\n",
                "WHERE BusinessEntityID IN (293,295,211,297,299,3057,15207);"
            ],
            "metadata": {
                "azdata_cell_guid": "30789f64-f908-4f53-92c5-f7a1fdec27b1",
                "language": "sql"
            },
            "outputs": [],
            "execution_count": null
        },
        {
            "cell_type": "markdown",
            "source": [
                "STRING\\_SPLIT and STRING\\_AGG\n",
                "\n",
                "- string\\_split instead of returning a value returns a table\n",
                "    - takes a string splits it into values in multiple rows\n",
                "- string\\_agg does the opposite\n",
                "    - operates over a set of rows and concatenates the values into a delimited string\n",
                "\n",
                "> STRING\\_SPLIT('STRING TO OPERATE ON','DELIMITER')\n",
                "> \n",
                ">   \n",
                "> \n",
                "> STRING\\_AGG('COLUMN NAME TO OPERATE ON','DELIMITER')"
            ],
            "metadata": {
                "azdata_cell_guid": "afe32c21-3cb5-4f10-9943-06807756ee16"
            },
            "attachments": {}
        },
        {
            "cell_type": "code",
            "source": [
                "SELECT VALUE \r\n",
                "FROM STRING_SPLIT('1,2,3,4,5,6,7,8,9',',');\r\n",
                "\r\n",
                "SELECT STRING_AGG(Name,', ') AS LIST\r\n",
                "FROM Production.ProductCategory;"
            ],
            "metadata": {
                "azdata_cell_guid": "d0f3dcb4-4fc8-442e-b137-7b9f5af5f054",
                "language": "sql"
            },
            "outputs": [],
            "execution_count": null
        },
        {
            "cell_type": "markdown",
            "source": [
                "### List of the string functions\n",
                "\n",
                "1. STRING\\_SPLIT(\\<STRING TO OPERATE ON\\>,\\<DELIMITER\\>)\n",
                "2. STRING\\_AGG(\\<COLUMN TO OPERATE ON\\>,\\<DELIMITER\\>)\n",
                "3. REPLACE(\\<STRING\\>,\\<PART TO REPLACE\\>,\\<REPLACEMENT\\>)\n",
                "4. SUBSTRING(\\<STRING\\>,\\<INDEX\\>,\\<LENGTH\\>)\n",
                "5. CHARINDEX(\\<SEARCH STRING\\>, \\<TARGET STRING\\> \\[,\\<OPTIONAL START INDEX\\>\\])\n",
                "6. CHARINDEX(\\<SEARCH INDEX\\> COLLATE Latin1\\_General\\_CS\\_AS, \\<TARGET STRING\\>)\n",
                "7. REVERSE(\\<STRING\\>)\n",
                "8. LEFT(\\<STRING\\>, \\<INT\\>)\n",
                "9. RIGHT(\\<STRING\\>,\\<INT\\>)\n",
                "10. LTRIM(\\<STRING\\>)\n",
                "11. RTRIM(\\<STRING\\>)\n",
                "12. TRIM(\\<STRING\\>)\n",
                "13. UPPER(\\<STRING\\>)\n",
                "14. LOWER(\\<STRING\\>)\n",
                "15. CHOOSE(\\<INDEX\\>, \\<val1\\>, \\<val2\\>, \\<val3\\>\\[, \\<val4\\>\\]);\n",
                "16. LEN(\\<LEN\\>)\n",
                "17. DATALENGTH(\\<ANY EXPRESSION\\>)"
            ],
            "metadata": {
                "azdata_cell_guid": "865d771d-39bd-408f-9a2f-d5aa5b1bde65"
            },
            "attachments": {}
        },
        {
            "cell_type": "markdown",
            "source": [
                "### Exercise 4.3\n",
                "\n",
                "Use the AdventureWorks database to complete Questions 1 to 4. Then switch to the WideWorldImporters to complete this exercise."
            ],
            "metadata": {
                "azdata_cell_guid": "e8237306-a682-4907-9fb7-4f7a6aef30ef"
            },
            "attachments": {}
        },
        {
            "cell_type": "markdown",
            "source": [
                "1\\. Write a query that displays the first ten characters of the AddressLine1 column in the Person.Address table."
            ],
            "metadata": {
                "azdata_cell_guid": "5fa251bb-e3b9-4bcf-99c8-af10db14e13c"
            },
            "attachments": {}
        },
        {
            "cell_type": "code",
            "source": [
                "SELECT LEFT(AddressLine1,10)\r\n",
                "FROM Person.Address;"
            ],
            "metadata": {
                "azdata_cell_guid": "5764ab4a-a5e3-4ae3-bcea-bf0dcaa46649",
                "language": "sql"
            },
            "outputs": [],
            "execution_count": null
        },
        {
            "cell_type": "markdown",
            "source": [
                "2\\. Write a query that displays characters 10 to 15 of the AddressLine1 column in the Person.Address table."
            ],
            "metadata": {
                "azdata_cell_guid": "c8daee73-a0ae-4371-a603-1223eebc20a9"
            },
            "attachments": {}
        },
        {
            "cell_type": "code",
            "source": [
                "SELECT LEFT(AddressLine1,10), SUBSTRING(AddressLine1,11,5)\r\n",
                "FROM Person.Address;"
            ],
            "metadata": {
                "azdata_cell_guid": "42599d52-5288-4c87-87c0-c204509abe56",
                "language": "sql"
            },
            "outputs": [],
            "execution_count": null
        },
        {
            "cell_type": "markdown",
            "source": [
                "3\\. Write a query displaying the first and last names from the Person.Person table all in uppercase."
            ],
            "metadata": {
                "azdata_cell_guid": "68cc6ff2-01a9-4332-8d14-bd3162827038"
            },
            "attachments": {}
        },
        {
            "cell_type": "code",
            "source": [
                "SELECT UPPER(FirstName),UPPER(LastName)\r\n",
                "FROM Person.Person"
            ],
            "metadata": {
                "azdata_cell_guid": "ec07b89a-e630-45f7-89e8-35587fe7fe2c",
                "language": "sql",
                "tags": []
            },
            "outputs": [],
            "execution_count": null
        },
        {
            "cell_type": "markdown",
            "source": [
                "4\\. The ProductNumber in the Production.Product table contains a hyphen (-). Write a query that uses the SUBSTRING function and the CHARINDEX function to display the characters in the product number following the hyphen. Note: There is also a second hyphen in many of the rows; ignore the second hyphen for this question. Hint: Try writing this statement in two steps, the first using the CHARINDEX function and the second adding the SUBSTRING function."
            ],
            "metadata": {
                "azdata_cell_guid": "8a9226dd-90ec-4f4e-b25f-25d61d26842a"
            },
            "attachments": {}
        },
        {
            "cell_type": "code",
            "source": [
                "SELECT ProductNumber,SUBSTRING(ProductNumber,CHARINDEX('-',ProductNumber)+1,LEN(ProductNumber))\r\n",
                "FROM Production.Product"
            ],
            "metadata": {
                "azdata_cell_guid": "fa9ad797-4f69-462e-9184-42e743dce9ab",
                "language": "sql",
                "tags": []
            },
            "outputs": [],
            "execution_count": null
        },
        {
            "cell_type": "markdown",
            "source": [
                "5\\. Switch to the WideWorldImporters database. Write a SELECT statement to the Application.Countries table, creating a new code, which is the first three characters of the CountryName capitalized. Alias the column NewCode, returning only the column created and the IsoAlpha3Code column. Hint: You will use both the UPPER() function and the LEFT() function."
            ],
            "metadata": {
                "azdata_cell_guid": "43521aca-789b-4f04-8ab9-7681498b3752"
            },
            "attachments": {}
        },
        {
            "cell_type": "code",
            "source": [
                "SELECT SUBSTRING(UPPER(CountryName),1,3) AS NEWCODE\r\n",
                "FROM Application.Countries;"
            ],
            "metadata": {
                "azdata_cell_guid": "3d82731b-040f-4592-bec4-9313ec3e832f",
                "language": "sql"
            },
            "outputs": [],
            "execution_count": null
        },
        {
            "cell_type": "markdown",
            "source": [
                "6\\. In the CustomerName (located in the Sales.Customer table), return only the portion inside of parentheses, including the parentheses. Hint: See the “Nesting Functions” section. You may need to use a number of built-in functions, such as SUBSTRING(), CHARINDEX(), and LEN()."
            ],
            "metadata": {
                "azdata_cell_guid": "20b660d2-ae54-4b3e-bfbf-8e2c31042801"
            },
            "attachments": {}
        },
        {
            "cell_type": "code",
            "source": [
                "SELECT CustomerName, SUBSTRING(CustomerName, CHARINDEX('(',CustomerName)+1,LEN(CustomerName)-CHARINDEX('(',CustomerName)-1)\r\n",
                "FROM Sales.Customers"
            ],
            "metadata": {
                "azdata_cell_guid": "b78e5b8a-83e6-4491-8bf3-dd8ee4717d74",
                "language": "sql",
                "tags": []
            },
            "outputs": [],
            "execution_count": null
        },
        {
            "cell_type": "markdown",
            "source": [
                "### DATE and TIME functions\n",
                "\n",
                "- GETDATE()\n",
                "- SYSDATETIME()\n",
                "- DATEADD(\\<DATE PART\\>,\\<NUMBER\\>,\\<DATE\\>)\n",
                "- DATEDIFF(\\<DATE PART\\>,\\<EARLY DATE\\>,\\<LATER DATE\\>)\n",
                "- DATENAME(\\<DATEPART\\>,\\<DATE\\>)\n",
                "- DATEPART(\\<DATEPART\\>,\\<DATE\\>)\n",
                "- DAY(\\<DATE\\>)\n",
                "- MONTH(\\<DATE\\>)\n",
                "- YEAR(\\<DATE\\>)\n",
                "- CONVERT(\\<DATA TYPE, USUALLY VARCHAR\\>, \\<DATE\\>, \\<STYLE\\>)\n",
                "- FORMAT(VALUE , FORMAT \\[, CULTURE\\])"
            ],
            "metadata": {
                "azdata_cell_guid": "486d8bd3-7079-43b5-a3e4-504cd495f328"
            },
            "attachments": {}
        },
        {
            "cell_type": "markdown",
            "source": [
                "### GETDATE() and SYSDATETIME()\n",
                "\n",
                "- Non deterministic, returns a different value each time"
            ],
            "metadata": {
                "azdata_cell_guid": "dc34d57b-a3e0-490f-b34a-31bcafd14400"
            },
            "attachments": {}
        },
        {
            "cell_type": "code",
            "source": [
                "SELECT GETDATE(), SYSDATETIME();"
            ],
            "metadata": {
                "azdata_cell_guid": "0bedf70b-b200-4866-bc47-92ce5488e758",
                "language": "sql"
            },
            "outputs": [],
            "execution_count": null
        },
        {
            "cell_type": "markdown",
            "source": [
                "### DATEADD\n",
                "\n",
                "- To add number of time units to a date\n",
                "    - date part\n",
                "    - number\n",
                "    - date\n",
                "- T-sql doesnt have DATESUBTRACT so use DATEADD with -ve number\n",
                "- Possible date part values are\n",
                "    - yy,yyyy =\\> Year\n",
                "    - qq,q =\\> Quarter\n",
                "    - mm,m =\\> Month \n",
                "    - dy,y =\\> DayOfYear\n",
                "    - dd,d =\\> Day\n",
                "    - wk,ww =\\> Week\n",
                "    - Dw =\\> Weekday\n",
                "    - ss,s =\\> Second\n",
                "    - Ms =\\> Millisecond\n",
                "    - Mcs =\\> Microsecond\n",
                "    - Ns =\\> nanosecond\n",
                "\n",
                "> DATEADD(\\<DATE PART\\>,\\<NUMBER\\>,\\<DATE\\>)"
            ],
            "metadata": {
                "azdata_cell_guid": "8aadeb3e-66fd-4d0e-96f4-cf5bf37d95f9"
            },
            "attachments": {}
        },
        {
            "cell_type": "code",
            "source": [
                "SELECT OrderDate, DATEADD(YEAR,1,OrderDate) AS ADDYEAR,\r\n",
                "DATEADD(MONTH,1,OrderDate) AS ADDMONTH,\r\n",
                "DATEADD(YEAR,1.5,OrderDate) AS FRACTIONALADDITION,\r\n",
                "DATEADD(DAY,-1,OrderDate) AS DAYSUBTRACTION\r\n",
                "FROM Sales.SalesOrderHeader\r\n",
                "WHERE SalesOrderID IN (43659,43714,60621)"
            ],
            "metadata": {
                "azdata_cell_guid": "006aef86-67e1-4490-ac4c-36aa0599bcc5",
                "language": "sql"
            },
            "outputs": [],
            "execution_count": null
        },
        {
            "cell_type": "markdown",
            "source": [
                "Adding a fraction doesnt work,only adds the whole number part of the fraction"
            ],
            "metadata": {
                "azdata_cell_guid": "c5e14cf5-841d-4969-85c2-f1c4ab9f5ff9"
            },
            "attachments": {}
        },
        {
            "cell_type": "code",
            "source": [
                "SELECT DATEADD(MONTH,1,'2009-01-29'),DATEADD(MONTH,1,'2009-01-30'),DATEADD(DAY,1,'2009-02-28')"
            ],
            "metadata": {
                "azdata_cell_guid": "eac4badb-8994-464d-8ee5-91c9d6509376",
                "language": "sql"
            },
            "outputs": [],
            "execution_count": null
        },
        {
            "cell_type": "markdown",
            "source": [
                "Adding 1 month to jan 29th,30th,31st will take us to the lasst day of february that year and not to march"
            ],
            "metadata": {
                "azdata_cell_guid": "4f92e857-5143-4698-b2f7-7bb89578d338"
            },
            "attachments": {}
        },
        {
            "cell_type": "markdown",
            "source": [
                "### <span style=\"color: var(--vscode-foreground);\">DATEDIFF(&lt;DATE PART&gt;,&lt;EARLY DATE&gt;,&lt;LATER DATE&gt;)</span>\n",
                "\n",
                "- Find difference between two dates"
            ],
            "metadata": {
                "azdata_cell_guid": "293c6310-3844-4f15-9fee-f2932ce2e12e"
            },
            "attachments": {}
        },
        {
            "cell_type": "code",
            "source": [
                "SELECT OrderDate, GETDATE() AS CurrentDateTime,\r\n",
                " DATEDIFF(year,OrderDate,GETDATE()) AS YearDiff,\r\n",
                " DATEDIFF(month,OrderDate,GETDATE()) AS MonthDiff,\r\n",
                " DATEDIFF(d,OrderDate,GETDATE()) AS DayDiff\r\n",
                "FROM Sales.SalesOrderHeader\r\n",
                "WHERE SalesOrderID in (43659,43714,60621);"
            ],
            "metadata": {
                "azdata_cell_guid": "aedd1ef8-1c07-40c0-a516-c5e64252bf97",
                "language": "sql"
            },
            "outputs": [],
            "execution_count": null
        },
        {
            "cell_type": "code",
            "source": [
                "SELECT DATEDIFF(year,'2008-12-31','2009-01-01') AS YearDiff,\r\n",
                " DATEDIFF(month,'2008-12-31','2009-01-01') AS MonthDiff,\r\n",
                " DATEDIFF(d,'2008-12-31','2009-01-01') AS DayDiff;"
            ],
            "metadata": {
                "azdata_cell_guid": "9e2cdbf3-06cb-46cc-9690-a1be9c1ff20b",
                "language": "sql"
            },
            "outputs": [],
            "execution_count": null
        },
        {
            "cell_type": "markdown",
            "source": [
                "There is a 1 year 1 month and 1 day difference between 31st december and 1st january of the next year because the DATEDIFF finctions rounds up"
            ],
            "metadata": {
                "azdata_cell_guid": "36190ad1-8a2f-4c41-bfbb-901e84ad98c3"
            },
            "attachments": {}
        },
        {
            "cell_type": "markdown",
            "source": [
                "### DATENAME(\\<DATEPART\\>,\\<DATE\\>) and DATEPART(\\<DATEPART\\>,\\<DATE\\>)\n",
                "\n",
                "- return the part of the date specified\n",
                "- to get just the year or month from a date\n",
                "- DATEPART returns an int always\n",
                "- DATENAME return a string of characters incase of month or day of the week\n",
                "\n",
                "> DATENAME(\\<DATEPART\\>,\\<DATE\\>)\n",
                "> \n",
                "> DATEPART(\\<DATEPART\\>,\\<DATE\\>)"
            ],
            "metadata": {
                "azdata_cell_guid": "dcf530de-7b31-4804-bb68-78d909ee9353"
            },
            "attachments": {}
        },
        {
            "cell_type": "code",
            "source": [
                "SELECT OrderDate,DATEPART(YEAR,OrderDate) AS [YEAR], DATEPART(MONTH,OrderDate) AS [MONTH], DATEPART(DAY,OrderDate) AS [DAY],DATEPART(WEEKDAY,OrderDate) AS [WEEKDAY]\r\n",
                "FROM Sales.SalesOrderHeader;"
            ],
            "metadata": {
                "azdata_cell_guid": "481a903d-e936-43a3-9bc4-389e8c658524",
                "language": "sql"
            },
            "outputs": [],
            "execution_count": null
        },
        {
            "cell_type": "code",
            "source": [
                "SELECT OrderDate,DATENAME(YEAR,OrderDate) AS [YEAR],DATENAME(MONTH,OrderDate) AS [MONTH],DATENAME(DAY,OrderDate) AS [DAY],DATENAME(WEEKDAY,OrderDate) AS [WEEKDAY]\r\n",
                "FROM Sales.SalesOrderHeader;"
            ],
            "metadata": {
                "azdata_cell_guid": "907c994b-9f92-4c8b-8b21-5fd7e2b2a9f1",
                "language": "sql"
            },
            "outputs": [],
            "execution_count": null
        },
        {
            "cell_type": "markdown",
            "source": [
                "Another way to get the DAY MONTH OR THE YEAR  is to use the functions\n",
                "\n",
                "- DAY(\\<DATE\\>)\n",
                "- MONTH(\\<DATE\\>)\n",
                "- YEAR(\\<DATE\\>)\n",
                "\n",
                "They return numbers"
            ],
            "metadata": {
                "azdata_cell_guid": "5e7fb63d-0877-474f-9632-2f233f2f8f14"
            },
            "attachments": {}
        },
        {
            "cell_type": "markdown",
            "source": [
                "### CONVERT(\\<DATA TYPE, USUALLY VARCHAR\\>, \\<DATE\\>, \\<STYLE\\>)\n",
                "\n",
                "- To append a date to a string the date must first be converted to a string\n",
                "- style is an optional parameter can be used to format the date or a number\n",
                "- LOOK FOR THE STYLE YOU WANT ONLINE\n",
                "- This mehtod is often used to remove the date part from datetime data type, by casting to a DATE only a date is returned\n",
                "- all the three digit styles produce 4 digit years"
            ],
            "metadata": {
                "azdata_cell_guid": "73d4165b-8d18-4626-a509-eb5a9f43b192"
            },
            "attachments": {}
        },
        {
            "cell_type": "code",
            "source": [
                "SELECT CONVERT(VARCHAR, GETDATE(),111) AS [DATE];\r\n",
                "\r\n",
                "SELECT CONVERT(VARCHAR,GETDATE(),1) AS [1],\r\n",
                "CONVERT(VARCHAR,GETDATE(),101) AS [101],\r\n",
                "CONVERT(VARCHAR,GETDATE(),2) AS [2],\r\n",
                "CONVERT(VARCHAR,GETDATE(),102) AS [102];"
            ],
            "metadata": {
                "azdata_cell_guid": "ac5579cb-cf74-4d7c-9533-374e54d0c43a",
                "language": "sql"
            },
            "outputs": [],
            "execution_count": null
        },
        {
            "cell_type": "markdown",
            "source": [
                "### FORMAT(VALUE , FORMAT \\[, CULTURE\\])\n",
                "\n",
                "- to do datetime to string converisons\n",
                "- can be used to do datetime to equivalent culture specific dates\n",
                "- look for different formats online"
            ],
            "metadata": {
                "azdata_cell_guid": "4eeae89d-fbbe-4694-9d7f-a3fa5fcf86ff"
            },
            "attachments": {}
        },
        {
            "cell_type": "code",
            "source": [
                "DECLARE @d DATETIME = GETDATE();\r\n",
                "\r\n",
                "SELECT FORMAT(@d, 'dd', 'en-US') AS RESULT;\r\n",
                "SELECT FORMAT (@d,'yyyy-M-d') AS RESULT;\r\n",
                "SELECT FORMAT(@d,'MM/dd/yyyy','en-US') AS RESULT;"
            ],
            "metadata": {
                "azdata_cell_guid": "ec01488d-2347-4fe7-a653-e863a623cd88",
                "language": "sql"
            },
            "outputs": [],
            "execution_count": null
        },
        {
            "cell_type": "markdown",
            "source": [
                "### DATEFROMPARTS to make integers into date"
            ],
            "metadata": {
                "azdata_cell_guid": "bb87e9f8-3d06-4e4b-83bc-f4477ccc69d6"
            },
            "attachments": {}
        },
        {
            "cell_type": "code",
            "source": [
                "SELECT DATETIME2FROMPARTS(2023,12,22,12,10,32,0,0);"
            ],
            "metadata": {
                "azdata_cell_guid": "0de7a2ec-aa33-430f-913b-fab859ca9efa",
                "language": "sql"
            },
            "outputs": [],
            "execution_count": null
        },
        {
            "cell_type": "markdown",
            "source": [
                "### EOMONTH( \\<DATE\\> \\[, \\<offset\\>)\n",
                "\n",
                "- Returns the date of the last day of the supplied month\n",
                "- offset from the current month"
            ],
            "metadata": {
                "azdata_cell_guid": "9279bf95-a780-4241-a94d-df1a91fd1037"
            },
            "attachments": {}
        },
        {
            "cell_type": "code",
            "source": [
                "SELECT EOMONTH(GETDATE()) AS [END OF THIS MONTH], EOMONTH(GETDATE(),1) AS [END OF NEXT MONTH]"
            ],
            "metadata": {
                "azdata_cell_guid": "25c971e6-bfc3-4f7e-88e5-663e7bfdb708",
                "language": "sql"
            },
            "outputs": [],
            "execution_count": null
        },
        {
            "cell_type": "markdown",
            "source": [
                "### EXERCISE 4.4 USING ADVENTUREWORKS"
            ],
            "metadata": {
                "azdata_cell_guid": "06ee8ca7-2d3a-4500-a5e5-d92559a4c291"
            },
            "attachments": {}
        },
        {
            "cell_type": "markdown",
            "source": [
                "1\\. Write a query that calculates the number of days between the date an order was placed and the date that it was shipped using the Sales. SalesOrderHeader table. Include the SalesOrderID, OrderDate, and ShipDate columns.\n",
                "\n",
                "2\\. Write a query that displays only the date, not the time, for the order date and ship date in the Sales.SalesOrderHeader table"
            ],
            "metadata": {
                "azdata_cell_guid": "8586a09e-3562-42c1-bffa-ca8d2bc0d18c"
            },
            "attachments": {}
        },
        {
            "cell_type": "code",
            "source": [
                "SELECT SalesOrderID,CONVERT(DATE,OrderDate,1),CONVERT(DATE,ShipDate,1),DATEDIFF(DAY,OrderDate,ShipDate)\r\n",
                "FROM SALES.SalesOrderHeader;"
            ],
            "metadata": {
                "azdata_cell_guid": "b24b792a-6e2a-4ea7-92b1-6b3fdea9cb3d",
                "language": "sql",
                "tags": []
            },
            "outputs": [],
            "execution_count": null
        },
        {
            "cell_type": "markdown",
            "source": [
                "3\\. Write a query that adds six months to each order date in the Sales. SalesOrderHeader table."
            ],
            "metadata": {
                "azdata_cell_guid": "d4131b09-b642-46cf-a599-1dadd82726bd"
            },
            "attachments": {}
        },
        {
            "cell_type": "code",
            "source": [
                "SELECT SalesOrderID,DATEADD(MONTH,6,OrderDate),OrderDate\r\n",
                "FROM SALES.SalesOrderHeader;"
            ],
            "metadata": {
                "azdata_cell_guid": "d1c504f0-7944-4273-8b23-29bbccc58845",
                "language": "sql"
            },
            "outputs": [],
            "execution_count": null
        },
        {
            "cell_type": "markdown",
            "source": [
                "4\\. Write a query that displays the year of each order date and the numeric month of each order date in separate columns in the results. Include the SalesOrderID and OrderDate columns\n",
                "\n",
                "5\\. Change the query written in Question 4 to display the month name instead."
            ],
            "metadata": {
                "azdata_cell_guid": "21095e33-1ba4-4c38-82d3-d4cbed18d78b"
            },
            "attachments": {}
        },
        {
            "cell_type": "code",
            "source": [
                "SELECT SalesOrderID,YEAR(OrderDate),MONTH(OrderDate),OrderDate,DATENAME(MONTH,OrderDate)\r\n",
                "FROM SALES.SalesOrderHeader;"
            ],
            "metadata": {
                "azdata_cell_guid": "d884caf0-7c88-4790-963e-f882d6ae7270",
                "language": "sql"
            },
            "outputs": [],
            "execution_count": null
        },
        {
            "cell_type": "markdown",
            "source": [
                "6\\. Write a SELECT statement that returns the date five quarters in the past from today’s date."
            ],
            "metadata": {
                "azdata_cell_guid": "832dab76-77ba-4629-9c46-9f2fec0aa29a"
            },
            "attachments": {}
        },
        {
            "cell_type": "code",
            "source": [
                "SELECT GETDATE(),DATEADD(QUARTER,-5,GETDATE());"
            ],
            "metadata": {
                "azdata_cell_guid": "8612fea1-3349-4604-853d-7cabd233d9f2",
                "language": "sql"
            },
            "outputs": [],
            "execution_count": null
        },
        {
            "cell_type": "markdown",
            "source": [
                "### MATHEMATICAL FUNCTIONS\n",
                "\n",
                "- ABS(\\<NUMBER\\>)\n",
                "- POWER(\\<NUMBER\\>,\\<POWER\\>)\n",
                "- SQUARE(\\<NUMBER\\>)\n",
                "- SQRT(\\<NUMBER\\>)\n",
                "- ROUND(\\<NUMBER\\>, \\<LENGTH\\>\\[,\\<FUNCTION\\>\n",
                "- RAND()"
            ],
            "metadata": {
                "azdata_cell_guid": "4896a6ee-007e-4a0d-a9be-26bd906f34a8"
            },
            "attachments": {}
        },
        {
            "cell_type": "markdown",
            "source": [
                "POWER(\\<NUMBER\\>,\\<POWER\\>)\n",
                "\n",
                "- when the first argument is 10 the functions tries to return an int bu the value of 10^10 is too large therefore convert the first argument to float first"
            ],
            "metadata": {
                "azdata_cell_guid": "72a8b80a-8f79-417c-87ed-39627f4889b2"
            },
            "attachments": {}
        },
        {
            "cell_type": "code",
            "source": [
                "SELECT POWER(CONVERT(float,10),10)"
            ],
            "metadata": {
                "azdata_cell_guid": "1629091c-0fb4-4ab2-89ab-baaf6d9954d5",
                "language": "sql"
            },
            "outputs": [],
            "execution_count": null
        },
        {
            "cell_type": "markdown",
            "source": [
                "ROUND(NUMBER LENGTH \\[,FUNCTION\\])\n",
                "\n",
                "- the third parameter is just a flag to make the round function just truncate"
            ],
            "metadata": {
                "azdata_cell_guid": "397e0783-68d4-4c14-b908-aeeb37c11558"
            },
            "attachments": {}
        },
        {
            "cell_type": "code",
            "source": [
                "SELECT ROUND(1234.1294,2) AS \"2 places on the right\",\r\n",
                " ROUND(1234.1294,-2) AS \"2 places on the left\",\r\n",
                " ROUND(1234.1294,2,1) AS \"Truncate 2\",\r\n",
                " ROUND(1234.1294,-2,1) AS \"Truncate -2\";"
            ],
            "metadata": {
                "azdata_cell_guid": "b57c7615-ba0d-408b-987a-8ac4c2463c2f",
                "language": "sql"
            },
            "outputs": [],
            "execution_count": null
        },
        {
            "cell_type": "markdown",
            "source": [
                "### RAND(seed)\n",
                "\n",
                "- Returns a random value between 0 and 1\n",
                "- it optinally takes a seed value, with the seed value it returns the same value everytime"
            ],
            "metadata": {
                "azdata_cell_guid": "ea31b30f-7a09-467c-8fa9-c9a704bfc1eb"
            },
            "attachments": {}
        },
        {
            "cell_type": "code",
            "source": [
                "SELECT CAST(RAND()*100 AS INT)+1 AS \"1 TO 100\""
            ],
            "metadata": {
                "azdata_cell_guid": "db98bf7a-ae08-4bde-ace3-42792e8feb5a",
                "language": "sql"
            },
            "outputs": [],
            "execution_count": null
        },
        {
            "cell_type": "markdown",
            "source": [
                "- If you supply a seed value to one of the calls to RAND within a batch of statements, that seed affects the other calls. The value is not the same, but the values are predictable\n",
                "- If you leave out the seed, you will see different results each time."
            ],
            "metadata": {
                "azdata_cell_guid": "93f2c2df-9f3a-4120-b013-01ac7051b6df"
            },
            "attachments": {}
        },
        {
            "cell_type": "code",
            "source": [
                "SELECT RAND(3),RAND(),RAND();"
            ],
            "metadata": {
                "azdata_cell_guid": "67c5ea42-c4ff-414a-8bac-706b4d528780",
                "language": "sql"
            },
            "outputs": [],
            "execution_count": null
        },
        {
            "cell_type": "code",
            "source": [
                "SELECT RAND(),RAND(),RAND(),RAND()\r\n",
                "FROM sys.objects;"
            ],
            "metadata": {
                "azdata_cell_guid": "cfa5c1a5-b621-4442-ad84-dd1fcecb6d40",
                "language": "sql"
            },
            "outputs": [],
            "execution_count": null
        },
        {
            "cell_type": "markdown",
            "source": [
                "- even though you see different values in each column, you will see the same values in each row."
            ],
            "metadata": {
                "azdata_cell_guid": "9cd93469-9507-4ad4-b070-3d336491e92f"
            },
            "attachments": {}
        },
        {
            "cell_type": "markdown",
            "source": [
                "### EXERCISE 4.5\n",
                "\n",
                "Use the AdventureWorks2019 database to complete this exercise."
            ],
            "metadata": {
                "azdata_cell_guid": "e6c2d14b-a622-4d64-b823-1cdc707c19b5"
            },
            "attachments": {}
        },
        {
            "cell_type": "markdown",
            "source": [
                "1\\. Write a query using the Sales.SalesOrderHeader table that displays the SubTotal rounded to two decimal places. Include the SalesOrderID column in the results.  \n",
                "2\\. Modify the query from Question 1 so that the SubTotal is rounded to the nearest dollar but still displays two zeros to the right of the decimal place."
            ],
            "metadata": {
                "azdata_cell_guid": "20b4dbf7-c8db-4caa-995d-6e28ab1c2fbf"
            },
            "attachments": {}
        },
        {
            "cell_type": "code",
            "source": [
                "SELECT ROUND(SubTotal,2),ROUND(SubTotal,0)\r\n",
                "FROM Sales.SalesOrderHeader;"
            ],
            "metadata": {
                "azdata_cell_guid": "77f9aa3b-c7da-4be5-ac5c-2611c6d03762",
                "language": "sql"
            },
            "outputs": [],
            "execution_count": null
        },
        {
            "cell_type": "markdown",
            "source": [
                "3\\. Write a query that calculates the square root of the SalesOrderID value from the Sales.SalesOrderHeader table."
            ],
            "metadata": {
                "azdata_cell_guid": "fd9af869-084f-4a2c-af01-5be9ff061927"
            },
            "attachments": {}
        },
        {
            "cell_type": "code",
            "source": [
                "SELECT SQRT(SalesOrderID)\r\n",
                "FROM Sales.SalesOrderHeader"
            ],
            "metadata": {
                "azdata_cell_guid": "555c158d-55a0-4131-a31a-d246418b41a9",
                "language": "sql"
            },
            "outputs": [],
            "execution_count": null
        },
        {
            "cell_type": "markdown",
            "source": [
                "4\\. Write a statement that generates a random number between 1 and 10 each time it is run."
            ],
            "metadata": {
                "azdata_cell_guid": "1c525f98-8ad7-47e3-b83f-1bd4a98e99d4"
            },
            "attachments": {}
        },
        {
            "cell_type": "code",
            "source": [
                "SELECT ROUND((RAND()*10),0), ROUND(0.3,0),ROUND(10.5,0);"
            ],
            "metadata": {
                "azdata_cell_guid": "bcaf12f3-a2fa-4a86-b6f3-764c0494f8c4",
                "language": "sql"
            },
            "outputs": [],
            "execution_count": null
        },
        {
            "cell_type": "markdown",
            "source": [
                "### LOGICAL FUNCTIONS"
            ],
            "metadata": {
                "azdata_cell_guid": "ef57706b-470c-49ff-82fe-f92018266c81"
            },
            "attachments": {}
        },
        {
            "cell_type": "markdown",
            "source": [
                "### CASE\n",
                "\n",
                "- to evaluate a list of expressions and return the first one that evaluates to true\n",
                "- There are two ways to write a CASE expression: simple or searched."
            ],
            "metadata": {
                "azdata_cell_guid": "ecef114f-8f6e-4602-877c-3ddfa4add3db"
            },
            "attachments": {}
        },
        {
            "cell_type": "markdown",
            "source": [
                "### SIMPLE CASE\n",
                "\n",
                "Basically switch case\n",
                "\n",
                "syntax - \n",
                "\n",
                "<span style=\"background-color: rgba(127, 127, 127, 0.1); color: var(--vscode-foreground);\">CASE &lt;TEST EXPRESSION&gt;<br>&nbsp; &nbsp; &nbsp; &nbsp; T</span><span style=\"color: var(--vscode-foreground); background-color: rgba(127, 127, 127, 0.1);\">HEN &lt;POSSIBLE VALUE 1&gt; THEN &lt;RETURN VALUE 1&gt;<br></span>        <span style=\"background-color: rgba(127, 127, 127, 0.1); color: var(--vscode-foreground);\">WHEN &lt;POSSIBLE VALUE 2&gt; THEN &lt;RETURN VALUE 2&gt;<br></span>        <span style=\"background-color: rgba(127, 127, 127, 0.1); color: var(--vscode-foreground);\">[ELSE &lt;RETURN VALUE 3&gt;] END</span>"
            ],
            "metadata": {
                "azdata_cell_guid": "8762fd8b-ec9b-46f8-97ea-dbfc5fb6c5a3"
            },
            "attachments": {}
        },
        {
            "cell_type": "code",
            "source": [
                "SELECT  Title ,\r\n",
                "    CASE Title \r\n",
                "    when 'Mr.' then 'Male'\r\n",
                "    when 'Ms.' then 'female'\r\n",
                "    when 'Mrs.' then 'female'\r\n",
                "    when 'Miss' then 'female'\r\n",
                "    else 'unknown' END as Gender\r\n",
                "FROM Person.Person;"
            ],
            "metadata": {
                "azdata_cell_guid": "078f1134-b41a-4182-bbdb-5fe437052987",
                "language": "sql"
            },
            "outputs": [],
            "execution_count": null
        },
        {
            "cell_type": "markdown",
            "source": [
                "### SEARCHED CASE\n",
                "\n",
                "use when the case expression is too complicated like comparing a column to see if the values are IN a list  \n",
                "If none of the expressions returns true, the function returns the value from the ELSE part or NULL if no ELSE is available  \n",
                "the return values must be of compatible data types  \n",
                "precedence rules apply to the return values as other operations  \n",
                "can’t have one part of the expression returning an integer while another part returns a nonnumeric string.  \n",
                "\n",
                "syntax\n",
                "\n",
                "CASE WHEN \\<TEST EXPRESSION 1\\> THEN \\<VALUE 1\\>  \n",
                "\\[WHEN \\<TEST EXPRESSION 2\\> THEN \\<VALUE 2\\>\\]  \n",
                "\\[ELSE \\<VALUE 3\\>\\] END"
            ],
            "metadata": {
                "azdata_cell_guid": "2b1e01d6-20d5-47d6-b9e6-df3ea64fb7b4"
            },
            "attachments": {}
        },
        {
            "cell_type": "code",
            "source": [
                "SELECT Title,\r\n",
                "CASE WHEN Title IN ('Ms.','Mrs.','Miss') then 'Female'\r\n",
                "when Title = 'Mr.' then 'Male'\r\n",
                "else 'unknown' end as Gender\r\n",
                "from Person.Person;"
            ],
            "metadata": {
                "azdata_cell_guid": "a08fe7c5-4a50-44e1-ab8e-c815eaad29c7",
                "language": "sql"
            },
            "outputs": [],
            "execution_count": null
        },
        {
            "cell_type": "markdown",
            "source": [
                "Its possible to return columns as the return values in the case statements  \n",
                "we can write espressions such that we get some rows from one column and some rows from another column in the same column"
            ],
            "metadata": {
                "azdata_cell_guid": "06f930a3-b4cd-4fe9-b019-64c3930626a7"
            },
            "attachments": {}
        },
        {
            "cell_type": "code",
            "source": [
                "SELECT VacationHours,SickLeaveHours,\r\n",
                "    CASE WHEN VacationHours>SickLeaveHours THEN VacationHours\r\n",
                "    ELSE SickLeaveHours \r\n",
                "    END AS 'MAX HOURS IN ANY CATEGORY'\r\n",
                "FROM HumanResources.Employee"
            ],
            "metadata": {
                "azdata_cell_guid": "3104e611-e538-4314-a6d1-dd8df7667d05",
                "language": "sql"
            },
            "outputs": [],
            "execution_count": null
        },
        {
            "cell_type": "markdown",
            "source": [
                "### IIF  \n",
                "\n",
                "Its like a case but for only two possible outcomes, used with boolean expressions and returns based on the expression being true or false\n",
                "\n",
                "syntax  \n",
                "IIF(BOOLEAN EXPRESSION, TRUE VALUE, FALSE VALUE)"
            ],
            "metadata": {
                "azdata_cell_guid": "61a7f6ee-4b37-4430-9fc9-47537e71e4a5"
            },
            "attachments": {}
        },
        {
            "cell_type": "code",
            "source": [
                "SELECT IIF(50>=20, 'TURE','FALSE')"
            ],
            "metadata": {
                "azdata_cell_guid": "653feda6-7bc4-4389-b346-f5a0185485cf",
                "language": "sql"
            },
            "outputs": [],
            "execution_count": null
        },
        {
            "cell_type": "markdown",
            "source": [
                "### ADMINISTRATIVE FUNCTIONS\n",
                "\n",
                "- DB\\_NAME()\n",
                "- CURRENT\\_USER()\n",
                "- HOST\\_NAME()\n",
                "- SUSER\\_NAME()\n",
                "- APP\\_NAME()"
            ],
            "metadata": {
                "azdata_cell_guid": "71531dab-0b03-43ad-845f-b88c2818c12a"
            },
            "attachments": {}
        },
        {
            "cell_type": "markdown",
            "source": [
                "### EXERCISE 4.6"
            ],
            "metadata": {
                "azdata_cell_guid": "c424733c-4004-4bcb-9a94-d1b77355c13e"
            },
            "attachments": {}
        },
        {
            "cell_type": "markdown",
            "source": [
                "1\\. Use the AdventureWorks2019 database Write a query using the HumanResources.Employee table to display the BusinessEntityID column. Also include a CASE expression that displays Even when the BusinessEntityID value is an even number or Odd when it is odd. Hint: Use the modulo operator."
            ],
            "metadata": {
                "azdata_cell_guid": "b2a852dc-9f64-4e2c-a86e-140a6dd69438"
            },
            "attachments": {}
        },
        {
            "cell_type": "code",
            "source": [
                "SELECT BusinessEntityID,\r\n",
                "    CASE BusinessEntityID%2\r\n",
                "        WHEN 0 THEN 'EVEN'\r\n",
                "        ELSE 'ODD' END AS [CASE],\r\n",
                "    IIF(BusinessEntityID%2 = 0,'EVEN','ODD') AS [IIF]\r\n",
                "FROM HumanResources.Employee"
            ],
            "metadata": {
                "azdata_cell_guid": "503e7a8e-a128-4bcd-90d5-d33b1ed858cc",
                "language": "sql"
            },
            "outputs": [],
            "execution_count": null
        },
        {
            "cell_type": "markdown",
            "source": [
                "2\\. Write a query using the Sales.SalesOrderDetail table to display a value (Under 10 or 10–19 or 20–29 or 30–39 or 40 and over) based on the OrderQty value by using the CASE expression. Include the SalesOrderID and OrderQty columns in the results."
            ],
            "metadata": {
                "azdata_cell_guid": "5fcb656f-11c8-4afe-bbbb-01c6d71ab4d4"
            },
            "attachments": {}
        },
        {
            "cell_type": "code",
            "source": [
                "SELECT OrderQty,\r\n",
                "    CASE WHEN OrderQty<10 THEN 'UNDER 10'\r\n",
                "    WHEN OrderQty >=10 AND OrderQty<20 THEN '10-19'\r\n",
                "    WHEN OrderQty >=20 AND OrderQty<30 THEN '20-29'\r\n",
                "    WHEN OrderQty >=30 AND OrderQty<40 THEN '30-39'\r\n",
                "    WHEN OrderQty >=40 THEN '40 AND OVER'\r\n",
                "    END\r\n",
                "FROM Sales.SalesOrderDetail ORDER BY OrderQty DESC;"
            ],
            "metadata": {
                "azdata_cell_guid": "53405b4b-281f-4fa3-97ad-37d32756b936",
                "language": "sql"
            },
            "outputs": [],
            "execution_count": null
        },
        {
            "cell_type": "code",
            "source": [
                "SELECT DeliveryMethodID,\r\n",
                "    IIF(DeliveryMethodID IN (7,8,9,10),'FREIGHT','OTHER')\r\n",
                "FROM Purchasing.PurchaseOrders;"
            ],
            "metadata": {
                "azdata_cell_guid": "4cbbf2ee-2137-485b-a884-2646881818c7",
                "language": "sql"
            },
            "outputs": [],
            "execution_count": null
        },
        {
            "cell_type": "markdown",
            "source": [
                "We can use functions along with the where and order by clauses as well like so"
            ],
            "metadata": {
                "azdata_cell_guid": "ea0672d8-0fbc-4cbe-967a-433d16472c96"
            },
            "attachments": {}
        },
        {
            "cell_type": "code",
            "source": [
                "SELECT FirstName\r\n",
                "FROM Person.Person\r\n",
                "WHERE CHARINDEX('ke',FirstName) > 0;\r\n",
                "\r\n",
                "SELECT LastName,REVERSE(LastName)\r\n",
                "FROM Person.Person\r\n",
                "ORDER BY REVERSE(LastName);\r\n",
                "\r\n",
                "SELECT BirthDate\r\n",
                "FROM HumanResources.Employee\r\n",
                "ORDER BY YEAR(BirthDate);"
            ],
            "metadata": {
                "azdata_cell_guid": "ad56dfdb-3df9-4865-9f7b-b7c359db1ea7",
                "language": "sql"
            },
            "outputs": [],
            "execution_count": null
        },
        {
            "cell_type": "markdown",
            "source": [
                "this obviously require checking each row value so the indexes are useless and the performance might suffer"
            ],
            "metadata": {
                "azdata_cell_guid": "743989f3-7f7a-4da4-aa46-92c080479705"
            },
            "attachments": {}
        },
        {
            "cell_type": "markdown",
            "source": [
                "### EXERCISE 4.7"
            ],
            "metadata": {
                "azdata_cell_guid": "026972ee-206f-4dac-8af8-4db956c97e5e"
            },
            "attachments": {}
        },
        {
            "cell_type": "markdown",
            "source": [
                "1\\. Use the AdventureWorks2019 database Write a query that displays the PersonType and the name columns from the Person.Person table. Sort the results so that rows with a PersonType of IN, SP, or SC sort by LastName. The other rows should sort by FirstName."
            ],
            "metadata": {
                "azdata_cell_guid": "03ab0838-6228-4bc1-8dba-4ca2fe9a5466"
            },
            "attachments": {}
        },
        {
            "cell_type": "code",
            "source": [
                "SELECT FirstName,LastName,PersonType\r\n",
                "FROM Person.Person AS Person \r\n",
                "ORDER BY CASE \r\n",
                "    WHEN Person.PersonType IN ('IN','SP','SC') THEN LastName\r\n",
                "    ELSE FirstName \r\n",
                "    END;"
            ],
            "metadata": {
                "azdata_cell_guid": "c5eb7729-f70a-4d37-ab11-a1519de9a54a",
                "language": "sql"
            },
            "outputs": [],
            "execution_count": null
        },
        {
            "cell_type": "markdown",
            "source": [
                "SWITCH TO WORLDWIDEIMPORTERS DATABASE\n",
                "\n",
                "2\\. Write a SELECT statement, querying the Application.Cities table. Return the CityName and LatestRecordedPopulation and use a CASE statement to ORDER BY the LatestRecordedPopulation and sort the NULL values on the bottom, not the default on top. Try without using DESC"
            ],
            "metadata": {
                "azdata_cell_guid": "b36cadb4-f0a8-4d50-b830-3e5a50d50fbc"
            },
            "attachments": {}
        },
        {
            "cell_type": "code",
            "source": [
                "SELECT TOP 37940 CityName, LatestRecordedPopulation\r\n",
                "FROM Application.Cities\r\n",
                "ORDER BY IIF(LatestRecordedPopulation IS NULL,1,0);\r\n",
                "\r\n",
                "SELECT TOP 37940 CityName, LatestRecordedPopulation\r\n",
                "FROM Application.Cities\r\n",
                "ORDER BY CASE WHEN LatestRecordedPopulation IS NULL THEN 1 ELSE 0 END;"
            ],
            "metadata": {
                "azdata_cell_guid": "af42553c-9c3d-4f67-87a2-cb67c8ebab54",
                "language": "sql"
            },
            "outputs": [],
            "execution_count": null
        },
        {
            "cell_type": "markdown",
            "source": [
                "3\\. Write a SELECT statement querying the Application.PaymentMethods table. Using a CASE expression, order the results by the payment method in the following order:  \n",
                "a. Check  \n",
                "b. Credit Card  \n",
                "c. EFT  \n",
                "d. Cash"
            ],
            "metadata": {
                "azdata_cell_guid": "9dbb104c-1f96-45c2-8a9a-56a53bf335b4"
            },
            "attachments": {}
        },
        {
            "cell_type": "code",
            "source": [
                "SELECT *\r\n",
                "FROM Application.PaymentMethods\r\n",
                "ORDER BY CASE PaymentMethodName  \r\n",
                "    WHEN 'Check' THEN 1\r\n",
                "    WHEN 'Credit-Card' THEN 2\r\n",
                "    WHEN 'EFT' THEN 3 \r\n",
                "    WHEN 'Cash' THEN 4\r\n",
                "END;"
            ],
            "metadata": {
                "azdata_cell_guid": "74c368cc-a2bc-4374-9c44-7a78a6a01418",
                "language": "sql"
            },
            "outputs": [],
            "execution_count": null
        },
        {
            "cell_type": "markdown",
            "source": [
                "### THE TOP KEYWORD\n",
                "\n",
                "- LIMITS the number/percentage of rows returned\n",
                "\n",
                "syntax\n",
                "\n",
                "SELECT TOP(\\<NUMBER\\>) \\[PERCENT\\] \\[WITH TIES\\] COL1,COL2\n",
                "\n",
                "FROM TABLE \\[ORDER BY\\]\n",
                "\n",
                "- The WITH TIES option means that if there are rows that have identical values in the ORDER BY clause, the results will include all the rows even though you now end up with more rows than you expect."
            ],
            "metadata": {
                "azdata_cell_guid": "9877de2d-b4fa-4635-9f1c-86e4a9bbb7de"
            },
            "attachments": {}
        },
        {
            "cell_type": "code",
            "source": [
                "DECLARE @Percent INT = 2;\r\n",
                "SELECT TOP(@Percent) PERCENT CustomerID, OrderDate, SalesOrderID\r\n",
                "FROM Sales.SalesOrderHeader\r\n",
                "ORDER BY SalesOrderID"
            ],
            "metadata": {
                "azdata_cell_guid": "72ce6153-2a64-4356-ba09-85b6dffec6c0",
                "language": "sql"
            },
            "outputs": [],
            "execution_count": null
        },
        {
            "cell_type": "code",
            "source": [
                "SELECT TOP(2) CustomerID, OrderDate, SalesOrderID\r\n",
                "FROM Sales.SalesOrderHeader\r\n",
                "ORDER BY OrderDate;\r\n",
                "\r\n",
                "SELECT TOP(2) WITH TIES CustomerID, OrderDate, SalesOrderID\r\n",
                "FROM Sales.SalesOrderHeader\r\n",
                "ORDER BY OrderDate;"
            ],
            "metadata": {
                "azdata_cell_guid": "cc2290e0-6ce5-484e-9b4d-5379f5e07980",
                "language": "sql"
            },
            "outputs": [],
            "execution_count": null
        },
        {
            "cell_type": "markdown",
            "source": [
                "TO GET RANDOM ROWS WE CAN ORDER BY NEWID()"
            ],
            "metadata": {
                "azdata_cell_guid": "fba28e78-93f4-409b-bcc8-ab9a43774b0e"
            },
            "attachments": {}
        },
        {
            "cell_type": "code",
            "source": [
                "SELECT TOP(2) CustomerID, OrderDate, SalesOrderID\r\n",
                "FROM Sales.SalesOrderHeader\r\n",
                "ORDER BY NEWID();"
            ],
            "metadata": {
                "azdata_cell_guid": "bd580ced-1477-492f-b0b6-e3d53b58ea78",
                "language": "sql"
            },
            "outputs": [],
            "execution_count": null
        },
        {
            "cell_type": "markdown",
            "source": [
                "### Performance when using functions in the where clause\n",
                "\n",
                "- a scan on an index is more costly than a seek on a scan\n",
                "- if we have an index and filter on it using the logical operators it is more perfomant than using functions because the functions result in a scan as it has to be applied to all the values first\n",
                "\n",
                "for example"
            ],
            "metadata": {
                "azdata_cell_guid": "1c33a55a-15fd-4c73-8aa2-c9bf6d71f1c2"
            },
            "attachments": {}
        },
        {
            "cell_type": "code",
            "source": [
                "--Add an index\r\n",
                "IF EXISTS (SELECT * FROM sys.indexes WHERE object_id =\r\n",
                " OBJECT_ID(N'[Sales].[SalesOrderHeader]')\r\n",
                " AND name = N'DEMO_SalesOrderHeader_OrderDate')\r\n",
                "DROP INDEX [DEMO_SalesOrderHeader_OrderDate]\r\n",
                " ON [Sales].[SalesOrderHeader] ;\r\n",
                "GO\r\n",
                "CREATE NONCLUSTERED INDEX [DEMO_SalesOrderHeader_OrderDate]\r\n",
                " ON [Sales].[SalesOrderHeader]\r\n",
                "([OrderDate] ASC);\r\n",
                "\r\n",
                "--1\r\n",
                "SELECT SalesOrderID, OrderDate\r\n",
                "FROM Sales.SalesOrderHeader\r\n",
                "WHERE OrderDate >= '2011-01-01 00:00:00'\r\n",
                " AND OrderDate <= '2012-01-01 00:00:00';\r\n",
                "--2\r\n",
                "SELECT SalesOrderID, OrderDate\r\n",
                "FROM Sales.SalesOrderHeader\r\n",
                "WHERE YEAR(OrderDate) = 2011;\r\n",
                ""
            ],
            "metadata": {
                "azdata_cell_guid": "eb32b027-d94b-457b-b787-304193c3610a",
                "language": "sql"
            },
            "outputs": [],
            "execution_count": null
        },
        {
            "cell_type": "markdown",
            "source": [
                "run the above queries as queries on database to see the query plan\n",
                "\n",
                "query 1 results in an nidex seek while query 2 results in an index scan\n",
                "\n",
                "we can see the extimated cost of each query by clicking on their respective execution plan"
            ],
            "metadata": {
                "azdata_cell_guid": "f01647fb-a44d-488b-b09c-4da2dbf5c85d"
            },
            "attachments": {}
        },
        {
            "cell_type": "code",
            "source": [
                "-- to remove the index\r\n",
                "IF EXISTS (SELECT * FROM sys.indexes WHERE object_id =\r\n",
                " OBJECT_ID(N'[Sales].[SalesOrderHeader]')\r\n",
                " AND name = N'DEMO_SalesOrderHeader_OrderDate')\r\n",
                "DROP INDEX [DEMO_SalesOrderHeader_OrderDate]\r\n",
                " ON [Sales].[SalesOrderHeader];"
            ],
            "metadata": {
                "azdata_cell_guid": "64ef0132-5d33-4847-ad34-f69e604c3494",
                "language": "sql"
            },
            "outputs": [],
            "execution_count": null
        },
        {
            "cell_type": "markdown",
            "source": [
                "if run the queries after removing the index they both result in index scans"
            ],
            "metadata": {
                "azdata_cell_guid": "0286f21e-998b-40d9-9927-f82662c4cb15"
            },
            "attachments": {}
        }
    ]
}