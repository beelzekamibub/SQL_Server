{
    "metadata": {
        "kernelspec": {
            "name": "SQL",
            "display_name": "SQL",
            "language": "sql"
        },
        "language_info": {
            "name": "sql",
            "version": ""
        }
    },
    "nbformat_minor": 2,
    "nbformat": 4,
    "cells": [
        {
            "cell_type": "markdown",
            "source": [
                "1. Views - a stored query definition that can be used to simplify writing T-SQL statements or to secure data access, can be thought of as simplified data design to perform queries faster\n",
                "2. Stored Procedures - stored script that can include queries, DDL to create or modify objects and programming logic. they can return tabular data.\n",
                "3. User defined functions - similar to stored procedures but can return tabular data as well as single value, cant affect anything outside the function.\n",
                "4. Indexes - data structure that increases the speed of queries\n",
                "5. Constraints -"
            ],
            "metadata": {
                "azdata_cell_guid": "a13791f3-b148-4418-92ef-c1f4e5845e50"
            },
            "attachments": {}
        },
        {
            "cell_type": "markdown",
            "source": [
                "ctrl shift c ctrl shift t ctrl shift r"
            ],
            "metadata": {
                "azdata_cell_guid": "cd6c4bc8-29cb-4e36-8f3e-80c21f842366"
            },
            "attachments": {}
        },
        {
            "cell_type": "code",
            "source": [
                "select * from HumanResources.Department"
            ],
            "metadata": {
                "azdata_cell_guid": "88245459-daa2-4bd7-9bc1-4545985a1de3",
                "language": "sql"
            },
            "outputs": [],
            "execution_count": null
        },
        {
            "cell_type": "code",
            "source": [
                ""
            ],
            "metadata": {
                "azdata_cell_guid": "a45897fa-c6d5-40a9-b1f0-bdabd7d85734",
                "language": "sql"
            },
            "outputs": [],
            "execution_count": null
        }
    ]
}